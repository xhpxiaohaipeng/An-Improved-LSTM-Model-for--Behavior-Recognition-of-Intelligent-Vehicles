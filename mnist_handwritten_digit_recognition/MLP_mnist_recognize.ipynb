{
 "cells": [
  {
   "cell_type": "code",
   "execution_count": 1,
   "metadata": {},
   "outputs": [],
   "source": [
    "from torch import optim\n",
    "from  torch import nn\n",
    "from torchvision import datasets, transforms\n",
    "import torch.nn.functional as F\n",
    "import torch\n",
    "import helper\n",
    "import matplotlib.pyplot as plt\n",
    "import numpy as np"
   ]
  },
  {
   "cell_type": "code",
   "execution_count": 2,
   "metadata": {},
   "outputs": [],
   "source": [
    "# Define a transform to normalize the data\n",
    "transform = transforms.Compose([transforms.ToTensor(),\n",
    "                              transforms.Normalize((0.5,), (0.5,)),\n",
    "                              ])\n",
    "batch_size = 128\n",
    "# Download and load the training data\n",
    "train_set = datasets.MNIST('MNIST_data/', download=True, train=True, transform=transform)\n",
    "test_set = datasets.MNIST('MNIST_data/',download=True,train=False,transform=transform)\n",
    "\n",
    "num_works = 0\n",
    "valid_split = 0.5\n",
    "#把test数据集分成test和valid\n",
    "num_test = len(test_set)#得到数据大小\n",
    "indices = list(range(num_test))#得到下表索引值列表\n",
    "#np.random.shuffle(indices)\n",
    "\n",
    "split = int(np.floor(valid_split*num_test))# 返回不大于输入参数的最大整数。 即对于输入值 x ，将返回最大的整数 i ，使得 i <= x\n",
    "test_idx,valid_idx = indices[split:],indices[:split] #返回所需的元素索引列表\n",
    "\n",
    "test_sampler = torch.utils.data.sampler.SubsetRandomSampler(test_idx) #样本元素从指定的索引列表中随机抽取，没有替换。参数： - indices (list) – 索引的列表\n",
    "valid_sampler = torch.utils.data.sampler.SubsetRandomSampler(valid_idx)\n",
    "\n",
    "train_loader = torch.utils.data.DataLoader(train_set, batch_size=batch_size, shuffle=False,num_workers=num_works)\n",
    "test_loader = torch.utils.data.DataLoader(test_set,batch_size=batch_size,shuffle=False,sampler=test_sampler,num_workers=num_works)\n",
    "valid_loader = torch.utils.data.DataLoader(test_set,batch_size=batch_size,shuffle=False,sampler=valid_sampler,num_workers=num_works)"
   ]
  },
  {
   "cell_type": "code",
   "execution_count": 4,
   "metadata": {},
   "outputs": [
    {
     "data": {
      "image/png": "[encoded data removed]",
      "text/plain": [
       "<matplotlib.figure.Figure at 0x7fe1f4206f60>"
      ]
     },
     "metadata": {},
     "output_type": "display_data"
    }
   ],
   "source": [
    "dataiter = iter(train_loader)\n",
    "images,labels = dataiter.next()\n",
    "\n",
    "images = images.numpy()\n",
    "\n",
    "fig = plt.figure(figsize=(10,5),facecolor='white')\n",
    "\n",
    "for idx in np.arange(10):\n",
    "    ax = fig.add_subplot(2,10/2,idx+1,xticks=[],yticks=[])\n",
    "    ax.imshow(np.squeeze(images[idx]),cmap='gray')\n",
    "    ax.set_title(str(labels[idx].item()))\n",
    "    plt.savefig(\"image/figure1.svg\")\n",
    "\n"
   ]
  },
  {
   "cell_type": "code",
   "execution_count": 5,
   "metadata": {},
   "outputs": [
    {
     "data": {
      "text/plain": [
       "<matplotlib.figure.Figure at 0x7fe1f41c7eb8>"
      ]
     },
     "metadata": {},
     "output_type": "display_data"
    }
   ],
   "source": [
    "#更仔细地查看图像\n",
    "dataiter = iter(train_loader)\n",
    "images,labels = dataiter.next()\n",
    "\n",
    "images = images.numpy()\n",
    "img = np.squeeze(images[0])\n",
    "\n",
    "fig = plt.figure(figsize=(12,12))\n",
    "ax.imshow(img,cmap='gray')\n",
    "width,height = img.shape\n",
    "thresh = img.max()/2.5\n",
    "for x in range(width):\n",
    "    for y in range(height):\n",
    "        val = round(img[x][y],2) if img[x][y] != 0 else 0\n",
    "        ax.annotate(str(val),xy=(y,x),\n",
    "                    horizontalalignment='center',\n",
    "                    verticalalignment='center',\n",
    "                    color ='white' if img[x][y]<thresh else 'black')\n",
    "        ax.imshow(img,cmap='gray')\n"
   ]
  },
  {
   "cell_type": "code",
   "execution_count": 27,
   "metadata": {},
   "outputs": [],
   "source": [
    "model = nn.Sequential(nn.Linear(784, 512),\n",
    "                      nn.ReLU(),\n",
    "                      nn.Linear(512, 256),\n",
    "                      nn.ReLU(),\n",
    "                      nn.Linear(256, 64),\n",
    "                      nn.ReLU(),\n",
    "                      nn.Linear(64, 10),\n",
    "                      )\n",
    "use_cuda = torch.cuda.is_available()\n",
    "\n",
    "criterion = nn.CrossEntropyLoss()\n",
    "optimizer = optim.Adam(model.parameters(),lr=0.0001)\n",
    "\n",
    "if use_cuda:\n",
    "    model.cuda()"
   ]
  },
  {
   "cell_type": "code",
   "execution_count": 28,
   "metadata": {},
   "outputs": [],
   "source": [
    "def train(model,epochs,train_loader,valid_loader):\n",
    "    train_losses_e =[]\n",
    "    valid_losses_e =[]\n",
    "    accuracies_e = []\n",
    "    loss_min = np.inf\n",
    "    for e in range(epochs):\n",
    "        running_loss = 0\n",
    "        train_losses =[]\n",
    "        valid_losses =[]\n",
    "        accuracies = []\n",
    "        for images,labels in train_loader:\n",
    "            # Flatten MNIST images into a 784 long vector\n",
    "            if use_cuda:\n",
    "                images,labels = images.cuda(),labels.cuda()\n",
    "            images = images.view(images.shape[0], -1)\n",
    "            optimizer.zero_grad()\n",
    "            # TODO: Training pass\n",
    "            output = model(images)\n",
    "            loss = criterion(output, labels)\n",
    "            # print(loss)\n",
    "            loss.backward()\n",
    "            optimizer.step()\n",
    "            train_losses.append(loss.item())\n",
    "        model.eval()\n",
    "        for images,labels in valid_loader:\n",
    "            if use_cuda:\n",
    "                images,labels = images.cuda(),labels.cuda()\n",
    "            images = images.view(images.shape[0],-1)\n",
    "            out = model(images)\n",
    "            valid_loss = criterion(out,labels)\n",
    "            _,index = out.topk(1,dim=1)\n",
    "            eq = index == labels.view(index.shape)\n",
    "            accuracy = torch.mean(eq.type(torch.FloatTensor)).item()\n",
    "            valid_losses.append(valid_loss.item())\n",
    "            accuracies.append(accuracy)\n",
    "        train_losses_e.append(np.mean(train_losses))\n",
    "        valid_losses_e.append(np.mean(valid_losses))\n",
    "        accuracies_e.append(np.mean(accuracies))\n",
    "        print(e+1,\"/\",epochs,\"Training loss: {},Valid_loss:{},Valid_accuracy:{}\".format(np.mean(train_losses),np.mean(valid_losses),np.mean(accuracies)))\n",
    "        if loss_min > np.mean(valid_losses):     \n",
    "            print('Loss decrease...')\n",
    "            loss_min = np.mean(valid_losses)\n",
    "            torch.save(model.state_dict(),'model/net_mnist_loss_min_mlp.pth')\n",
    "            \n",
    "        \n",
    "        model.train()\n",
    "    print('min loss:',loss_min)\n",
    "    plt.plot(train_losses_e,color='r',label='train_loss')\n",
    "    plt.plot(valid_losses_e,color='g',label='valid_loss')\n",
    "    plt.title('Loss_Trend')\n",
    "    plt.xlabel('Epoches')\n",
    "    plt.ylabel('Loss')\n",
    "    plt.legend()\n",
    "    plt.savefig('image/loss_mlp.svg')\n",
    "    return  accuracies_e"
   ]
  },
  {
   "cell_type": "code",
   "execution_count": 29,
   "metadata": {},
   "outputs": [
    {
     "name": "stdout",
     "output_type": "stream",
     "text": [
      "1 / 60 Training loss: 0.770151079606527,Valid_loss:0.4577100858092308,Valid_accuracy:0.862109375\n",
      "Loss decrease...\n",
      "2 / 60 Training loss: 0.33297715070786504,Valid_loss:0.3820897627621889,Valid_accuracy:0.8837890625\n",
      "Loss decrease...\n",
      "3 / 60 Training loss: 0.2740487471492941,Valid_loss:0.3136826574802399,Valid_accuracy:0.90546875\n",
      "Loss decrease...\n",
      "4 / 60 Training loss: 0.23110342254516666,Valid_loss:0.2664866603910923,Valid_accuracy:0.918359375\n",
      "Loss decrease...\n",
      "5 / 60 Training loss: 0.19782143422980297,Valid_loss:0.2424455691128969,Valid_accuracy:0.9265625\n",
      "Loss decrease...\n",
      "6 / 60 Training loss: 0.17195627249793202,Valid_loss:0.20622011311352254,Valid_accuracy:0.93515625\n",
      "Loss decrease...\n",
      "7 / 60 Training loss: 0.15145738023335237,Valid_loss:0.1940658027306199,Valid_accuracy:0.9380859375\n",
      "Loss decrease...\n",
      "8 / 60 Training loss: 0.13474134354194853,Valid_loss:0.16969874016940595,Valid_accuracy:0.94453125\n",
      "Loss decrease...\n",
      "9 / 60 Training loss: 0.12049210157348657,Valid_loss:0.1562754586338997,Valid_accuracy:0.9517578125\n",
      "Loss decrease...\n",
      "10 / 60 Training loss: 0.10834955969360718,Valid_loss:0.15144009813666343,Valid_accuracy:0.9509765625\n",
      "Loss decrease...\n",
      "11 / 60 Training loss: 0.09775890602565396,Valid_loss:0.14792673103511333,Valid_accuracy:0.9525390625\n",
      "Loss decrease...\n",
      "12 / 60 Training loss: 0.08842569652364961,Valid_loss:0.13134321598336102,Valid_accuracy:0.9580078125\n",
      "Loss decrease...\n",
      "13 / 60 Training loss: 0.08016130329369864,Valid_loss:0.12656888402998448,Valid_accuracy:0.95859375\n",
      "Loss decrease...\n",
      "14 / 60 Training loss: 0.07279022119796352,Valid_loss:0.12144634453579783,Valid_accuracy:0.95859375\n",
      "Loss decrease...\n",
      "15 / 60 Training loss: 0.06613875214240826,Valid_loss:0.12489686766639352,Valid_accuracy:0.9580078125\n",
      "16 / 60 Training loss: 0.06023948165431205,Valid_loss:0.11578234937041998,Valid_accuracy:0.9626953125\n",
      "Loss decrease...\n",
      "17 / 60 Training loss: 0.05490260725733695,Valid_loss:0.11382013112306595,Valid_accuracy:0.9634765625\n",
      "Loss decrease...\n",
      "18 / 60 Training loss: 0.05013843735398006,Valid_loss:0.11263266215100884,Valid_accuracy:0.9630859375\n",
      "Loss decrease...\n",
      "19 / 60 Training loss: 0.04584284763394007,Valid_loss:0.11334685571491718,Valid_accuracy:0.9640625\n",
      "20 / 60 Training loss: 0.04185869346168249,Valid_loss:0.12003457518294454,Valid_accuracy:0.960546875\n",
      "21 / 60 Training loss: 0.03814530002870666,Valid_loss:0.1154944439418614,Valid_accuracy:0.9609375\n",
      "22 / 60 Training loss: 0.034797548659956025,Valid_loss:0.1107321104966104,Valid_accuracy:0.9658203125\n",
      "Loss decrease...\n",
      "23 / 60 Training loss: 0.031543226082568994,Valid_loss:0.11134678227826952,Valid_accuracy:0.965625\n",
      "24 / 60 Training loss: 0.028714880073216677,Valid_loss:0.11263639805838466,Valid_accuracy:0.965625\n",
      "25 / 60 Training loss: 0.026089582064036113,Valid_loss:0.11478805616497993,Valid_accuracy:0.96484375\n",
      "26 / 60 Training loss: 0.023703529841022322,Valid_loss:0.11927464706823229,Valid_accuracy:0.962109375\n",
      "27 / 60 Training loss: 0.02153806729532127,Valid_loss:0.11676153112202883,Valid_accuracy:0.9654296875\n",
      "28 / 60 Training loss: 0.01953946340328722,Valid_loss:0.11869778702966868,Valid_accuracy:0.9654296875\n",
      "29 / 60 Training loss: 0.017752006181331076,Valid_loss:0.12837966475635768,Valid_accuracy:0.9634765625\n",
      "30 / 60 Training loss: 0.016255404248134667,Valid_loss:0.11781737189739942,Valid_accuracy:0.96796875\n",
      "31 / 60 Training loss: 0.014780124863867821,Valid_loss:0.11414395114406943,Valid_accuracy:0.96796875\n",
      "32 / 60 Training loss: 0.013560798563269664,Valid_loss:0.13709058477543296,Valid_accuracy:0.9625\n",
      "33 / 60 Training loss: 0.012413000163715531,Valid_loss:0.1203408851288259,Valid_accuracy:0.968359375\n",
      "34 / 60 Training loss: 0.012174442080832494,Valid_loss:0.12252946039661765,Valid_accuracy:0.968359375\n",
      "35 / 60 Training loss: 0.013121536557576549,Valid_loss:0.12539370423182844,Valid_accuracy:0.96796875\n",
      "36 / 60 Training loss: 0.011486838065357859,Valid_loss:0.1264153896830976,Valid_accuracy:0.969140625\n",
      "37 / 60 Training loss: 0.010659802983056254,Valid_loss:0.1431730415672064,Valid_accuracy:0.96640625\n",
      "38 / 60 Training loss: 0.011127648303217726,Valid_loss:0.16638780785724522,Valid_accuracy:0.9580078125\n",
      "39 / 60 Training loss: 0.010125492757031404,Valid_loss:0.19340059850364924,Valid_accuracy:0.95078125\n",
      "40 / 60 Training loss: 0.008854320286703644,Valid_loss:0.13569687642157077,Valid_accuracy:0.96875\n",
      "41 / 60 Training loss: 0.008232079315255447,Valid_loss:0.1283886918798089,Valid_accuracy:0.97109375\n",
      "42 / 60 Training loss: 0.007555771712412331,Valid_loss:0.1423026009462774,Valid_accuracy:0.967578125\n",
      "43 / 60 Training loss: 0.006797578920528833,Valid_loss:0.12225590413436294,Valid_accuracy:0.9736328125\n",
      "44 / 60 Training loss: 0.006351045888862503,Valid_loss:0.13095538085326552,Valid_accuracy:0.9720703125\n",
      "45 / 60 Training loss: 0.006340013973827936,Valid_loss:0.1558725034818053,Valid_accuracy:0.9673828125\n",
      "46 / 60 Training loss: 0.005583108551720821,Valid_loss:0.1484850629232824,Valid_accuracy:0.9701171875\n",
      "47 / 60 Training loss: 0.004104477244177098,Valid_loss:0.15170328114181758,Valid_accuracy:0.966015625\n",
      "48 / 60 Training loss: 0.007004702237369155,Valid_loss:0.15606431905180215,Valid_accuracy:0.9677734375\n",
      "49 / 60 Training loss: 0.005386609508634122,Valid_loss:0.14935319712385536,Valid_accuracy:0.971875\n",
      "50 / 60 Training loss: 0.004093951063115459,Valid_loss:0.1539730155840516,Valid_accuracy:0.969921875\n",
      "51 / 60 Training loss: 0.003391073039695144,Valid_loss:0.140572686214,Valid_accuracy:0.9708984375\n",
      "52 / 60 Training loss: 0.0032609600190526005,Valid_loss:0.159156799223274,Valid_accuracy:0.9697265625\n",
      "53 / 60 Training loss: 0.0037764969017745845,Valid_loss:0.1686927219852805,Valid_accuracy:0.966015625\n",
      "54 / 60 Training loss: 0.002788401109033397,Valid_loss:0.17119077490642667,Valid_accuracy:0.9681640625\n",
      "55 / 60 Training loss: 0.00563845033052443,Valid_loss:0.19015748035162688,Valid_accuracy:0.9642578125\n",
      "56 / 60 Training loss: 0.003540063955024806,Valid_loss:0.17391755720600485,Valid_accuracy:0.96796875\n",
      "57 / 60 Training loss: 0.008868002044811432,Valid_loss:0.15702244443818927,Valid_accuracy:0.966796875\n",
      "58 / 60 Training loss: 0.0039194182881009156,Valid_loss:0.19731578789651394,Valid_accuracy:0.9677734375\n",
      "59 / 60 Training loss: 0.002290399926307518,Valid_loss:0.15510399816557766,Valid_accuracy:0.9716796875\n",
      "60 / 60 Training loss: 0.001294310235712272,Valid_loss:0.14546360783278942,Valid_accuracy:0.9736328125\n",
      "min loss: 0.1107321104966104\n",
      "Training Time is: 413.83545541763306 s\n"
     ]
    },
    {
     "data": {
      "image/png": "[encoded data removed]",
      "text/plain": [
       "<matplotlib.figure.Figure at 0x7fe269d4a710>"
      ]
     },
     "metadata": {
      "needs_background": "light"
     },
     "output_type": "display_data"
    }
   ],
   "source": [
    "from time import time\n",
    "start = time()\n",
    "accuracy = train(model,60,train_loader,valid_loader)\n",
    "print('Training Time is:',time()-start,'s')"
   ]
  },
  {
   "cell_type": "code",
   "execution_count": 30,
   "metadata": {},
   "outputs": [
    {
     "data": {
      "image/png": "[encoded data removed]",
      "text/plain": [
       "<matplotlib.figure.Figure at 0x7fe269cd4a20>"
      ]
     },
     "metadata": {
      "needs_background": "light"
     },
     "output_type": "display_data"
    }
   ],
   "source": [
    "plt.plot(accuracy,color='b',label='accuracy')\n",
    "plt.title('Accuracy_Trend')\n",
    "plt.xlabel('Epoches')\n",
    "plt.ylabel('Accuracy')\n",
    "plt.legend()\n",
    "plt.savefig('image/accuracy_mlp.svg')"
   ]
  },
  {
   "cell_type": "code",
   "execution_count": 31,
   "metadata": {},
   "outputs": [],
   "source": [
    "def test(net,test_loader):\n",
    "    valid_loss = []\n",
    "    accuracies_ = []\n",
    "    net.eval()\n",
    "    class_correct = np.zeros(10)\n",
    "    class_total = np.zeros(10)\n",
    "    classes = ['0','1','2','3','4','5','6','7','8','9']\n",
    "    for x,y in test_loader:\n",
    "        if use_cuda:\n",
    "            x,y = x.cuda(),y.cuda()\n",
    "        x = x.view(x.shape[0],-1)\n",
    "        out = net(x)\n",
    "        loss = criterion(out,y)\n",
    "        _,class_ = torch.max(out,dim=1)\n",
    "        equal = class_ == y.view(class_.shape)\n",
    "        for i in range(y.shape[0]):\n",
    "            label = y.data[i].item()\n",
    "            class_correct[label] += equal[i].item()\n",
    "            class_total[label] += 1\n",
    "        accuracy = torch.mean(equal.type(torch.FloatTensor)).item()\n",
    "        accuracies_.append(accuracy)\n",
    "        \n",
    "        valid_loss.append(loss.item())\n",
    "    #print('Test Loss: {:.6f}\\n'.format(loss.item()))\n",
    "    for i in range(10):\n",
    "        if class_total[i]>0:\n",
    "            print('Test Accuracy of {}:{:.4f}({}/{})'.format(classes[i],100*class_correct[i]/class_total[i],\n",
    "                 int(np.sum(class_correct[i])),\n",
    "                 int(np.sum(class_total[i]))))\n",
    "        else:\n",
    "            print('Test Accuracy of {}:N/A(no examples)'.format(classes[i]))\n",
    "    print('Test Accuracy(Overall):{:.4f} ({}/{})'.format(100*np.sum(class_correct)/np.sum(class_total),\n",
    "                                                    int(np.sum(class_correct)),\n",
    "                                                    int(np.sum(class_total))))\n",
    "    print('Test Loss:',np.mean(valid_loss),'Test Accuracy:',np.mean(accuracies_))"
   ]
  },
  {
   "cell_type": "code",
   "execution_count": 32,
   "metadata": {},
   "outputs": [
    {
     "name": "stdout",
     "output_type": "stream",
     "text": [
      "Test Accuracy of 0:99.0385(515/520)\n",
      "Test Accuracy of 1:99.2908(560/564)\n",
      "Test Accuracy of 2:98.2072(493/502)\n",
      "Test Accuracy of 3:98.8235(504/510)\n",
      "Test Accuracy of 4:99.1701(478/482)\n",
      "Test Accuracy of 5:97.7064(426/436)\n",
      "Test Accuracy of 6:98.7903(490/496)\n",
      "Test Accuracy of 7:98.8372(510/516)\n",
      "Test Accuracy of 8:96.4948(468/485)\n",
      "Test Accuracy of 9:98.3640(481/489)\n",
      "Test Accuracy(Overall):98.5000 (4925/5000)\n",
      "Test Loss: 0.05842438116669655 Test Accuracy: 0.982421875\n"
     ]
    }
   ],
   "source": [
    "model_test = model\n",
    "model_test.load_state_dict(torch.load('model/net_mnist_loss_min_mlp.pth'))\n",
    "test(model_test,test_loader)"
   ]
  },
  {
   "cell_type": "code",
   "execution_count": null,
   "metadata": {},
   "outputs": [],
   "source": []
  }
 ],
 "metadata": {
  "kernelspec": {
   "display_name": "Python 3",
   "language": "python",
   "name": "python3"
  },
  "language_info": {
   "codemirror_mode": {
    "name": "ipython",
    "version": 3
   },
   "file_extension": ".py",
   "mimetype": "text/x-python",
   "name": "python",
   "nbconvert_exporter": "python",
   "pygments_lexer": "ipython3",
   "version": "3.5.2"
  }
 },
 "nbformat": 4,
 "nbformat_minor": 2
}
