{
 "cells": [
  {
   "cell_type": "code",
   "execution_count": 1,
   "metadata": {},
   "outputs": [],
   "source": [
    "from torch import optim\n",
    "from  torch import nn\n",
    "from torchvision import datasets, transforms\n",
    "import torch.nn.functional as F\n",
    "import torch\n",
    "import helper\n",
    "import matplotlib.pyplot as plt\n",
    "import numpy as np"
   ]
  },
  {
   "cell_type": "code",
   "execution_count": 2,
   "metadata": {},
   "outputs": [],
   "source": [
    "# Define a transform to normalize the data\n",
    "transform = transforms.Compose([transforms.ToTensor(),\n",
    "                              transforms.Normalize((0.5,), (0.5,)),\n",
    "                              ])\n",
    "batch_size = 128\n",
    "# Download and load the training data\n",
    "train_set = datasets.MNIST('MNIST_data/', download=True, train=True, transform=transform)\n",
    "test_set = datasets.MNIST('MNIST_data/',download=True,train=False,transform=transform)\n",
    "\n",
    "num_works = 0\n",
    "valid_split = 0.5\n",
    "#把test数据集分成test和valid\n",
    "num_test = len(test_set)#得到数据大小\n",
    "indices = list(range(num_test))#得到下表索引值列表\n",
    "#np.random.shuffle(indices)\n",
    "\n",
    "split = int(np.floor(valid_split*num_test))# 返回不大于输入参数的最大整数。 即对于输入值 x ，将返回最大的整数 i ，使得 i <= x\n",
    "test_idx,valid_idx = indices[split:],indices[:split] #返回所需的元素索引列表\n",
    "\n",
    "test_sampler = torch.utils.data.sampler.SubsetRandomSampler(test_idx) #样本元素从指定的索引列表中随机抽取，没有替换。参数： - indices (list) – 索引的列表\n",
    "valid_sampler = torch.utils.data.sampler.SubsetRandomSampler(valid_idx)\n",
    "\n",
    "train_loader = torch.utils.data.DataLoader(train_set, batch_size=batch_size, shuffle=False,num_workers=num_works)\n",
    "test_loader = torch.utils.data.DataLoader(test_set,batch_size=batch_size,shuffle=False,sampler=test_sampler,num_workers=num_works)\n",
    "valid_loader = torch.utils.data.DataLoader(test_set,batch_size=batch_size,shuffle=False,sampler=valid_sampler,num_workers=num_works)"
   ]
  },
  {
   "cell_type": "code",
   "execution_count": 3,
   "metadata": {},
   "outputs": [
    {
     "data": {
      "image/png": "[encoded data removed]",
      "text/plain": [
       "<matplotlib.figure.Figure at 0x7f7e581ce710>"
      ]
     },
     "metadata": {},
     "output_type": "display_data"
    }
   ],
   "source": [
    "dataiter = iter(train_loader)\n",
    "images,labels = dataiter.next()\n",
    "\n",
    "images = images.numpy()\n",
    "\n",
    "fig = plt.figure(figsize=(25,4),facecolor='white')\n",
    "\n",
    "for idx in np.arange(20):\n",
    "    ax = fig.add_subplot(2,20/2,idx+1,xticks=[],yticks=[])\n",
    "    ax.imshow(np.squeeze(images[idx]),cmap='gray')\n",
    "    ax.set_title(str(labels[idx].item()))\n",
    "\n"
   ]
  },
  {
   "cell_type": "code",
   "execution_count": 4,
   "metadata": {},
   "outputs": [
    {
     "data": {
      "text/plain": [
       "<matplotlib.figure.Figure at 0x7f7dd03dffd0>"
      ]
     },
     "metadata": {},
     "output_type": "display_data"
    }
   ],
   "source": [
    "#更仔细地查看图像\n",
    "dataiter = iter(train_loader)\n",
    "images,labels = dataiter.next()\n",
    "\n",
    "images = images.numpy()\n",
    "img = np.squeeze(images[0])\n",
    "\n",
    "fig = plt.figure(figsize=(12,12))\n",
    "ax.imshow(img,cmap='gray')\n",
    "width,height = img.shape\n",
    "thresh = img.max()/2.5\n",
    "for x in range(width):\n",
    "    for y in range(height):\n",
    "        val = round(img[x][y],2) if img[x][y] != 0 else 0\n",
    "        ax.annotate(str(val),xy=(y,x),\n",
    "                    horizontalalignment='center',\n",
    "                    verticalalignment='center',\n",
    "                    color ='white' if img[x][y]<thresh else 'black')\n",
    "        ax.imshow(img,cmap='gray')"
   ]
  },
  {
   "cell_type": "code",
   "execution_count": 5,
   "metadata": {},
   "outputs": [],
   "source": [
    "class LSTM(nn.Module):\n",
    "    def __init__(self, input_size, output_size, hidden_dim, n_layers):\n",
    "        super(LSTM, self).__init__()\n",
    "        \n",
    "        self.hidden_dim=hidden_dim\n",
    "        self.n_layers = n_layers\n",
    "        # define an RNN with specified parameters\n",
    "        # batch_first means that the first dim of the input and output will be the batch_size\n",
    "        self.lstm = nn.LSTM(input_size, hidden_dim, n_layers,dropout=0, batch_first=True)\n",
    "        \n",
    "        # last, fully-connected layer\n",
    "        self.fc1 = nn.Linear(hidden_dim,hidden_dim*2)\n",
    "        self.fc = nn.Linear(hidden_dim*2, output_size)\n",
    "        self.fc2 = nn.Linear(hidden_dim,output_size)\n",
    "      #  self.softmax = nn.Softmax(dim=1)\n",
    "    def forward(self, x, hidden):\n",
    "        # x (batch_size, seq_length, input_size)\n",
    "        # hidden (n_layers, batch_size, hidden_dim)\n",
    "        # r_out (batch_size, time_step, hidden_size)\n",
    "        batch_size = x.size(0)\n",
    "        \n",
    "        # get RNN outputs\n",
    "        r_out, hidden = self.lstm(x, hidden)\n",
    "        \"\"\"\n",
    "        r_out = torch.mean(r_out,dim=2).squeeze()\n",
    "        \n",
    "        output= self.fc2(r_out)\n",
    "        # shape output to be (batch_size*seq_length, hidden_dim)\n",
    "        \"\"\"\n",
    "        r_out = r_out.contiguous().view(-1, self.hidden_dim)  \n",
    "        \n",
    "        # get final output \n",
    "        output = self.fc2(r_out)\n",
    "       # output = self.fc(output)\n",
    "        output = output.view(batch_size,-1,10)\n",
    "        output = output[:,-1]\n",
    "      #  output = self.softmax(output)\n",
    "        \n",
    "        return output, hidden\n",
    "    \n",
    "    def init_hidden(self, batch_size):\n",
    "        ''' Initializes hidden state '''\n",
    "        # Create two new tensors with sizes n_layers x batch_size x hidden_dim,\n",
    "        # initialized to zero, for hidden state and cell state of LSTM\n",
    "        weight = next(self.parameters()).data\n",
    "\n",
    "        if use_cuda:\n",
    "            hidden = (weight.new(self.n_layers, batch_size, self.hidden_dim).zero_().cuda(),\n",
    "                      weight.new(self.n_layers, batch_size, self.hidden_dim).zero_().cuda())\n",
    "        else:\n",
    "            hidden = (weight.new(self.n_layers, batch_size, self.hidden_dim).zero_(),\n",
    "                      weight.new(self.n_layers, batch_size, self.hidden_dim).zero_())\n",
    "\n",
    "        return hidden\n",
    "\n",
    "use_cuda = torch.cuda.is_available()"
   ]
  },
  {
   "cell_type": "code",
   "execution_count": 6,
   "metadata": {},
   "outputs": [],
   "source": [
    "def train(model,epochs,train_loader,valid_loader,lr=0.03):\n",
    "    train_losses_e =[]\n",
    "    valid_losses_e =[]\n",
    "    accuracies_e = []\n",
    "    loss_min = np.inf\n",
    "    criterion = nn.CrossEntropyLoss()\n",
    "    optimizer = torch.optim.Adam(model.parameters(), lr=lr)\n",
    "    for e in range(epochs):\n",
    "        running_loss = 0\n",
    "        train_losses =[]\n",
    "        valid_losses =[]\n",
    "        accuracies = []\n",
    "        for images,labels in train_loader:\n",
    "            # Flatten MNIST images into a 784 long vector\n",
    "            \n",
    "            images = images.view(-1,784)\n",
    "            h = model.init_hidden(images.shape[0])\n",
    "            h = tuple([each.data for each in h])\n",
    "            images = images.unsqueeze(2)\n",
    "            if use_cuda:\n",
    "                images,labels = images.cuda(),labels.cuda()\n",
    "            optimizer.zero_grad()\n",
    "            # TODO: Training pass\n",
    "            output ,h= model(images,h)\n",
    "            \n",
    "            loss = criterion(output, labels)\n",
    "            # print(loss)\n",
    "            loss.backward()\n",
    "            optimizer.step()\n",
    "            train_losses.append(loss.item())\n",
    "        model.eval()\n",
    "        for images,labels in valid_loader:\n",
    "            images = images.view(-1,784)\n",
    "            h = model.init_hidden(images.shape[0])\n",
    "            h = tuple([each.data for each in h])\n",
    "            images = images.unsqueeze(2)\n",
    "            if use_cuda:\n",
    "                images,labels = images.cuda(),labels.cuda()\n",
    "            out,h = model(images,h)\n",
    "            valid_loss = criterion(out,labels)\n",
    "            _,index = out.topk(1,dim=1)\n",
    "            eq = index == labels.view(index.shape)\n",
    "            accuracy = torch.mean(eq.type(torch.FloatTensor)).item()\n",
    "            valid_losses.append(valid_loss.item())\n",
    "            accuracies.append(accuracy)\n",
    "        train_losses_e.append(np.mean(train_losses))\n",
    "        valid_losses_e.append(np.mean(valid_losses))\n",
    "        accuracies_e.append(np.mean(accuracies))\n",
    "        print(e+1,\"/\",epochs,\"Training loss: {},Valid_loss:{},Valid_accuracy:{}\".format(np.mean(train_losses),np.mean(valid_losses),np.mean(accuracies)))\n",
    "        if loss_min > np.mean(valid_losses):     \n",
    "            print('Loss decrease...')\n",
    "            loss_min = np.mean(valid_losses)\n",
    "            torch.save(model.state_dict(),'model/net_mnist_loss_min_lstm_old_flatten.pth')\n",
    "            \n",
    "        \n",
    "        model.train()\n",
    "    print('min loss:',loss_min)\n",
    "    plt.plot(train_losses_e,color='r',label='train_loss')\n",
    "    plt.plot(valid_losses_e,color='g',label='valid_loss')\n",
    "    plt.title('Loss_Trend')\n",
    "    plt.xlabel('Epoches')\n",
    "    plt.ylabel('Loss')\n",
    "    plt.legend()\n",
    "    plt.savefig('image/loss_lstm_old_flatten.svg')\n",
    "    return  accuracies_e"
   ]
  },
  {
   "cell_type": "code",
   "execution_count": 7,
   "metadata": {},
   "outputs": [
    {
     "name": "stdout",
     "output_type": "stream",
     "text": [
      "1 / 60 Training loss: 2.301460809036613,Valid_loss:2.3016772866249084,Valid_accuracy:0.1029296875\n",
      "Loss decrease...\n",
      "2 / 60 Training loss: 2.301302503675286,Valid_loss:2.3014492094516754,Valid_accuracy:0.1173828125\n",
      "Loss decrease...\n",
      "3 / 60 Training loss: 2.3012829874115965,Valid_loss:2.3018304765224458,Valid_accuracy:0.1115234375\n",
      "4 / 60 Training loss: 2.298227930373983,Valid_loss:2.2861156463623047,Valid_accuracy:0.1322265625\n",
      "Loss decrease...\n",
      "5 / 60 Training loss: 2.25522930688187,Valid_loss:2.271799248456955,Valid_accuracy:0.1380859375\n",
      "Loss decrease...\n",
      "6 / 60 Training loss: 2.2464238860205548,Valid_loss:2.2669874727725983,Valid_accuracy:0.14375\n",
      "Loss decrease...\n",
      "7 / 60 Training loss: 2.2745621661895883,Valid_loss:2.301529532670975,Valid_accuracy:0.11484375\n",
      "8 / 60 Training loss: 2.301193928667731,Valid_loss:2.3019043266773225,Valid_accuracy:0.1166015625\n",
      "9 / 60 Training loss: 2.301173053570648,Valid_loss:2.301883190870285,Valid_accuracy:0.11875\n",
      "10 / 60 Training loss: 2.301144390472217,Valid_loss:2.3020178496837618,Valid_accuracy:0.1228515625\n",
      "11 / 60 Training loss: 2.301081507953245,Valid_loss:2.3018218874931335,Valid_accuracy:0.1\n",
      "12 / 60 Training loss: 2.299738657245758,Valid_loss:2.3055932819843292,Valid_accuracy:0.1\n",
      "13 / 60 Training loss: 2.297913181756351,Valid_loss:2.3015071749687195,Valid_accuracy:0.171484375\n",
      "14 / 60 Training loss: 2.292947235900456,Valid_loss:2.3018261671066282,Valid_accuracy:0.1029296875\n",
      "15 / 60 Training loss: 2.3011906024997932,Valid_loss:2.302030807733536,Valid_accuracy:0.1\n",
      "16 / 60 Training loss: 2.3009778817833615,Valid_loss:2.3009164571762084,Valid_accuracy:0.105859375\n",
      "17 / 60 Training loss: 2.3005113591517468,Valid_loss:2.2998569548130035,Valid_accuracy:0.105859375\n",
      "18 / 60 Training loss: 2.2114284475729153,Valid_loss:2.2070702433586122,Valid_accuracy:0.190625\n",
      "Loss decrease...\n",
      "19 / 60 Training loss: 2.1899505790108558,Valid_loss:2.1948300302028656,Valid_accuracy:0.1927734375\n",
      "Loss decrease...\n",
      "20 / 60 Training loss: 2.2151605879574188,Valid_loss:2.3005256593227386,Valid_accuracy:0.1029296875\n",
      "21 / 60 Training loss: 2.2990381148324084,Valid_loss:2.298300641775131,Valid_accuracy:0.1\n",
      "22 / 60 Training loss: 2.224233483963175,Valid_loss:2.00657479763031,Valid_accuracy:0.283984375\n",
      "Loss decrease...\n",
      "23 / 60 Training loss: 2.272998989518009,Valid_loss:2.3014321863651275,Valid_accuracy:0.1029296875\n",
      "24 / 60 Training loss: 2.301648717445097,Valid_loss:2.301041454076767,Valid_accuracy:0.105859375\n",
      "25 / 60 Training loss: 2.3019526523313543,Valid_loss:2.302055501937866,Valid_accuracy:0.1\n",
      "26 / 60 Training loss: 2.301744465126412,Valid_loss:2.3004980981349945,Valid_accuracy:0.1029296875\n",
      "27 / 60 Training loss: 2.3017290141790916,Valid_loss:2.3019518136978148,Valid_accuracy:0.1\n",
      "28 / 60 Training loss: 2.301718460725569,Valid_loss:2.3024605393409727,Valid_accuracy:0.1\n",
      "29 / 60 Training loss: 2.3017089310993772,Valid_loss:2.301451343297958,Valid_accuracy:0.1029296875\n",
      "30 / 60 Training loss: 2.301636000431931,Valid_loss:2.301876312494278,Valid_accuracy:0.1029296875\n",
      "31 / 60 Training loss: 2.291192108125829,Valid_loss:2.302905285358429,Valid_accuracy:0.1\n",
      "32 / 60 Training loss: 2.3016623403471925,Valid_loss:2.3016839385032655,Valid_accuracy:0.1\n",
      "33 / 60 Training loss: 2.3016344169055474,Valid_loss:2.300793981552124,Valid_accuracy:0.1087890625\n",
      "34 / 60 Training loss: 2.301621105116822,Valid_loss:2.3008897840976714,Valid_accuracy:0.105859375\n",
      "35 / 60 Training loss: 2.3016109578390873,Valid_loss:2.301545411348343,Valid_accuracy:0.105859375\n",
      "36 / 60 Training loss: 2.3016013794107986,Valid_loss:2.301408219337463,Valid_accuracy:0.105859375\n",
      "37 / 60 Training loss: 2.301591634242011,Valid_loss:2.301537585258484,Valid_accuracy:0.105859375\n",
      "38 / 60 Training loss: 2.3015816623468135,Valid_loss:2.3017897963523866,Valid_accuracy:0.1\n",
      "39 / 60 Training loss: 2.3015716014894596,Valid_loss:2.3018723487854005,Valid_accuracy:0.1\n",
      "40 / 60 Training loss: 2.3015616224772892,Valid_loss:2.301760745048523,Valid_accuracy:0.1\n",
      "41 / 60 Training loss: 2.301551911368299,Valid_loss:2.3014276146888735,Valid_accuracy:0.105859375\n",
      "42 / 60 Training loss: 2.3015425413656336,Valid_loss:2.301550191640854,Valid_accuracy:0.105859375\n",
      "43 / 60 Training loss: 2.3015335907559913,Valid_loss:2.30107701420784,Valid_accuracy:0.105859375\n",
      "44 / 60 Training loss: 2.301525097157655,Valid_loss:2.3016881167888643,Valid_accuracy:0.105859375\n",
      "45 / 60 Training loss: 2.3015169848257035,Valid_loss:2.301120412349701,Valid_accuracy:0.1087890625\n",
      "46 / 60 Training loss: 2.3015092878199335,Valid_loss:2.3016261041164396,Valid_accuracy:0.1\n",
      "47 / 60 Training loss: 2.3015019314121337,Valid_loss:2.3012556970119475,Valid_accuracy:0.1029296875\n",
      "48 / 60 Training loss: 2.3014948723921136,Valid_loss:2.301661765575409,Valid_accuracy:0.105859375\n",
      "49 / 60 Training loss: 2.3014881077097424,Valid_loss:2.302230656147003,Valid_accuracy:0.1029296875\n",
      "50 / 60 Training loss: 2.3014815860211466,Valid_loss:2.3021818935871123,Valid_accuracy:0.1\n",
      "51 / 60 Training loss: 2.301475251407257,Valid_loss:2.301887345314026,Valid_accuracy:0.1029296875\n",
      "52 / 60 Training loss: 2.301469047949004,Valid_loss:2.3024759709835054,Valid_accuracy:0.1\n",
      "53 / 60 Training loss: 2.3014629080351483,Valid_loss:2.3021505773067474,Valid_accuracy:0.1\n",
      "54 / 60 Training loss: 2.3014292244209664,Valid_loss:2.303411328792572,Valid_accuracy:0.1\n",
      "55 / 60 Training loss: 2.299031131048955,Valid_loss:2.304089146852493,Valid_accuracy:0.114453125\n",
      "56 / 60 Training loss: 2.2935225292563692,Valid_loss:2.2949083030223845,Valid_accuracy:0.117578125\n",
      "57 / 60 Training loss: 2.2875178704129606,Valid_loss:2.2816446125507355,Valid_accuracy:0.1279296875\n",
      "58 / 60 Training loss: 2.289558559592599,Valid_loss:2.3062774181365966,Valid_accuracy:0.1203125\n",
      "59 / 60 Training loss: 2.3016508444031674,Valid_loss:2.302429276704788,Valid_accuracy:0.1\n",
      "60 / 60 Training loss: 2.3014233427515416,Valid_loss:2.3023561775684356,Valid_accuracy:0.1\n",
      "min loss: 2.00657479763031\n",
      "Training Time is: 9722.693093299866 s\n"
     ]
    },
    {
     "data": {
      "image/png": "[encoded data removed]",
      "text/plain": [
       "<matplotlib.figure.Figure at 0x7f7dca067438>"
      ]
     },
     "metadata": {
      "needs_background": "light"
     },
     "output_type": "display_data"
    }
   ],
   "source": [
    "model = LSTM(1,10,256,2) #512,2 0.983  256,2 0.983 ,64 ,2 0.984,32,2,0.983,256,4.0.983\n",
    "if use_cuda:\n",
    "    model.cuda()\n",
    "from time import time\n",
    "start = time()\n",
    "accuracy = train(model, 60,train_loader,valid_loader,0.0001)\n",
    "print('Training Time is:',time()-start,'s')"
   ]
  },
  {
   "cell_type": "code",
   "execution_count": 8,
   "metadata": {},
   "outputs": [
    {
     "data": {
      "image/png": "[encoded data removed]",
      "text/plain": [
       "<matplotlib.figure.Figure at 0x7f7dc03c5668>"
      ]
     },
     "metadata": {
      "needs_background": "light"
     },
     "output_type": "display_data"
    }
   ],
   "source": [
    "plt.plot(accuracy,color='b',label='accuracy')\n",
    "plt.title('Accuracy_Trend')\n",
    "plt.xlabel('Epoches')\n",
    "plt.ylabel('Accuracy')\n",
    "plt.legend()\n",
    "plt.savefig('image/accuracy_lstm_old_flatten.svg')"
   ]
  },
  {
   "cell_type": "code",
   "execution_count": 9,
   "metadata": {},
   "outputs": [],
   "source": [
    "def test(net,test_loader):\n",
    "    criterion = nn.CrossEntropyLoss()\n",
    "    valid_loss = []\n",
    "    accuracies_ = []\n",
    "    class_correct = np.zeros(10)\n",
    "    class_total = np.zeros(10)\n",
    "    classes = ['0','1','2','3','4','5','6','7','8','9']\n",
    "    net.eval()\n",
    "    for x,y in test_loader:\n",
    "        x = x.view(-1,784)\n",
    "        h = net.init_hidden(x.shape[0])\n",
    "        h = tuple([each.data for each in h])\n",
    "        x = x.unsqueeze(2)\n",
    "        if use_cuda:\n",
    "            x,y = x.cuda(),y.cuda()\n",
    "        out,h = net(x,h)\n",
    "        loss = criterion(out,y)\n",
    "        _,class_ = torch.max(out,dim=1)\n",
    "        equal = class_ == y.view(class_.shape)\n",
    "        for i in range(y.shape[0]):\n",
    "            label = y.data[i].item()\n",
    "            class_correct[label] += equal[i].item()\n",
    "            class_total[label] += 1\n",
    "        accuracy = torch.mean(equal.type(torch.FloatTensor)).item()\n",
    "        accuracies_.append(accuracy)\n",
    "        \n",
    "        valid_loss.append(loss.item())\n",
    "    #print('Test Loss: {:.6f}\\n'.format(loss.item()))\n",
    "    for i in range(10):\n",
    "        if class_total[i]>0:\n",
    "            print('Test Accuracy of {}:{:.4f}({}/{})'.format(classes[i],100*class_correct[i]/class_total[i],\n",
    "                 int(np.sum(class_correct[i])),\n",
    "                 int(np.sum(class_total[i]))))\n",
    "        else:\n",
    "            print('Test Accuracy of {}:N/A(no examples)'.format(classes[i]))\n",
    "    print('Test Accuracy(Overall):{:.4f} ({}/{})'.format(100*np.sum(class_correct)/np.sum(class_total),\n",
    "                                                    int(np.sum(class_correct)),\n",
    "                                                    int(np.sum(class_total))))\n",
    "    print('Test Loss:',np.mean(valid_loss),'Test Accuracy:',np.mean(accuracies_))"
   ]
  },
  {
   "cell_type": "code",
   "execution_count": 14,
   "metadata": {},
   "outputs": [
    {
     "name": "stdout",
     "output_type": "stream",
     "text": [
      "Test Accuracy of 0:0.0000(0/520)\n",
      "Test Accuracy of 1:89.7163(506/564)\n",
      "Test Accuracy of 2:21.3147(107/502)\n",
      "Test Accuracy of 3:0.0000(0/510)\n",
      "Test Accuracy of 4:75.5187(364/482)\n",
      "Test Accuracy of 5:0.0000(0/436)\n",
      "Test Accuracy of 6:0.0000(0/496)\n",
      "Test Accuracy of 7:95.3488(492/516)\n",
      "Test Accuracy of 8:0.0000(0/485)\n",
      "Test Accuracy of 9:0.2045(1/489)\n",
      "Test Accuracy(Overall):29.4000 (1470/5000)\n",
      "Test Loss: 1.934464892745018 Test Accuracy: 0.2958984375\n"
     ]
    }
   ],
   "source": [
    "model_test = LSTM(1,10,256,2)\n",
    "if use_cuda:\n",
    "    model_test.cuda()\n",
    "model_test.load_state_dict(torch.load('model/net_mnist_loss_min_lstm_old_flatten.pth'))\n",
    "test(model_test,test_loader)"
   ]
  },
  {
   "cell_type": "code",
   "execution_count": null,
   "metadata": {},
   "outputs": [],
   "source": []
  }
 ],
 "metadata": {
  "kernelspec": {
   "display_name": "Python 3",
   "language": "python",
   "name": "python3"
  },
  "language_info": {
   "codemirror_mode": {
    "name": "ipython",
    "version": 3
   },
   "file_extension": ".py",
   "mimetype": "text/x-python",
   "name": "python",
   "nbconvert_exporter": "python",
   "pygments_lexer": "ipython3",
   "version": "3.5.2"
  }
 },
 "nbformat": 4,
 "nbformat_minor": 2
}
