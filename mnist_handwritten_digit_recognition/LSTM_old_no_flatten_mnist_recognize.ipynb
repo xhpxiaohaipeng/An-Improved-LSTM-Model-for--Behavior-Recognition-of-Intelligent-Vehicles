{
 "cells": [
  {
   "cell_type": "code",
   "execution_count": 2,
   "metadata": {},
   "outputs": [],
   "source": [
    "from torch import optim\n",
    "from  torch import nn\n",
    "from torchvision import datasets, transforms\n",
    "import torch.nn.functional as F\n",
    "import torch\n",
    "import helper\n",
    "import matplotlib.pyplot as plt\n",
    "import numpy as np"
   ]
  },
  {
   "cell_type": "code",
   "execution_count": 3,
   "metadata": {},
   "outputs": [],
   "source": [
    "# Define a transform to normalize the data\n",
    "transform = transforms.Compose([transforms.ToTensor(),\n",
    "                              transforms.Normalize((0.5,), (0.5,)),\n",
    "                              ])\n",
    "batch_size = 128\n",
    "# Download and load the training data\n",
    "train_set = datasets.MNIST('MNIST_data/', download=True, train=True, transform=transform)\n",
    "test_set = datasets.MNIST('MNIST_data/',download=True,train=False,transform=transform)\n",
    "\n",
    "num_works = 0\n",
    "valid_split = 0.5\n",
    "#把test数据集分成test和valid\n",
    "num_test = len(test_set)#得到数据大小\n",
    "indices = list(range(num_test))#得到下表索引值列表\n",
    "#np.random.shuffle(indices)\n",
    "\n",
    "split = int(np.floor(valid_split*num_test))# 返回不大于输入参数的最大整数。 即对于输入值 x ，将返回最大的整数 i ，使得 i <= x\n",
    "test_idx,valid_idx = indices[split:],indices[:split] #返回所需的元素索引列表\n",
    "\n",
    "test_sampler = torch.utils.data.sampler.SubsetRandomSampler(test_idx) #样本元素从指定的索引列表中随机抽取，没有替换。参数： - indices (list) – 索引的列表\n",
    "valid_sampler = torch.utils.data.sampler.SubsetRandomSampler(valid_idx)\n",
    "\n",
    "train_loader = torch.utils.data.DataLoader(train_set, batch_size=batch_size, shuffle=False,num_workers=num_works)\n",
    "test_loader = torch.utils.data.DataLoader(test_set,batch_size=batch_size,shuffle=False,sampler=test_sampler,num_workers=num_works)\n",
    "valid_loader = torch.utils.data.DataLoader(test_set,batch_size=batch_size,shuffle=False,sampler=valid_sampler,num_workers=num_works)"
   ]
  },
  {
   "cell_type": "code",
   "execution_count": 3,
   "metadata": {},
   "outputs": [
    {
     "data": {
      "image/png": "[encoded data removed]",
      "text/plain": [
       "<matplotlib.figure.Figure at 0x7ffb2e8f2048>"
      ]
     },
     "metadata": {},
     "output_type": "display_data"
    }
   ],
   "source": [
    "dataiter = iter(train_loader)\n",
    "images,labels = dataiter.next()\n",
    "\n",
    "images = images.numpy()\n",
    "\n",
    "fig = plt.figure(figsize=(25,4),facecolor='white')\n",
    "\n",
    "for idx in np.arange(20):\n",
    "    ax = fig.add_subplot(2,20/2,idx+1,xticks=[],yticks=[])\n",
    "    ax.imshow(np.squeeze(images[idx]),cmap='gray')\n",
    "    ax.set_title(str(labels[idx].item()))\n",
    "\n"
   ]
  },
  {
   "cell_type": "code",
   "execution_count": 119,
   "metadata": {},
   "outputs": [
    {
     "data": {
      "text/plain": [
       "<matplotlib.figure.Figure at 0x7ffba93b55f8>"
      ]
     },
     "metadata": {},
     "output_type": "display_data"
    }
   ],
   "source": [
    "#更仔细地查看图像\n",
    "dataiter = iter(train_loader)\n",
    "images,labels = dataiter.next()\n",
    "\n",
    "images = images.numpy()\n",
    "img = np.squeeze(images[0])\n",
    "\n",
    "fig = plt.figure(figsize=(12,12))\n",
    "ax.imshow(img,cmap='gray')\n",
    "width,height = img.shape\n",
    "thresh = img.max()/2.5\n",
    "for x in range(width):\n",
    "    for y in range(height):\n",
    "        val = round(img[x][y],2) if img[x][y] != 0 else 0\n",
    "        ax.annotate(str(val),xy=(y,x),\n",
    "                    horizontalalignment='center',\n",
    "                    verticalalignment='center',\n",
    "                    color ='white' if img[x][y]<thresh else 'black')\n",
    "        ax.imshow(img,cmap='gray')"
   ]
  },
  {
   "cell_type": "code",
   "execution_count": 4,
   "metadata": {},
   "outputs": [],
   "source": [
    "class LSTM(nn.Module):\n",
    "    def __init__(self, input_size, output_size, hidden_dim, n_layers):\n",
    "        super(LSTM, self).__init__()\n",
    "        \n",
    "        self.hidden_dim=hidden_dim\n",
    "        self.n_layers = n_layers\n",
    "        # define an RNN with specified parameters\n",
    "        # batch_first means that the first dim of the input and output will be the batch_size\n",
    "        self.lstm = nn.LSTM(input_size, hidden_dim, n_layers,dropout=0, batch_first=True)\n",
    "        \n",
    "        # last, fully-connected layer\n",
    "        self.fc1 = nn.Linear(hidden_dim,hidden_dim*2)\n",
    "        self.fc = nn.Linear(hidden_dim*2, output_size)\n",
    "        self.fc2 = nn.Linear(hidden_dim,output_size)\n",
    "      #  self.softmax = nn.Softmax(dim=1)\n",
    "    def forward(self, x, hidden):\n",
    "        # x (batch_size, seq_length, input_size)\n",
    "        # hidden (n_layers, batch_size, hidden_dim)\n",
    "        # r_out (batch_size, time_step, hidden_size)\n",
    "        batch_size = x.size(0)\n",
    "        \n",
    "        # get RNN outputs\n",
    "        r_out, hidden = self.lstm(x, hidden)\n",
    "        \"\"\"\n",
    "        r_out = torch.mean(r_out,dim=2).squeeze()\n",
    "        \n",
    "        output= self.fc2(r_out)\n",
    "        # shape output to be (batch_size*seq_length, hidden_dim)\n",
    "        \"\"\"\n",
    "        r_out = r_out.contiguous().view(-1, self.hidden_dim)  \n",
    "        \n",
    "        # get final output \n",
    "        output = self.fc2(r_out)\n",
    "       # output = self.fc(output)\n",
    "        output = output.view(batch_size,-1,10)\n",
    "        output = output[:,-1]\n",
    "      #  output = self.softmax(output)\n",
    "        \n",
    "        return output, hidden\n",
    "    \n",
    "    def init_hidden(self, batch_size):\n",
    "        ''' Initializes hidden state '''\n",
    "        # Create two new tensors with sizes n_layers x batch_size x hidden_dim,\n",
    "        # initialized to zero, for hidden state and cell state of LSTM\n",
    "        weight = next(self.parameters()).data\n",
    "\n",
    "        if use_cuda:\n",
    "            hidden = (weight.new(self.n_layers, batch_size, self.hidden_dim).zero_().cuda(),\n",
    "                      weight.new(self.n_layers, batch_size, self.hidden_dim).zero_().cuda())\n",
    "        else:\n",
    "            hidden = (weight.new(self.n_layers, batch_size, self.hidden_dim).zero_(),\n",
    "                      weight.new(self.n_layers, batch_size, self.hidden_dim).zero_())\n",
    "\n",
    "        return hidden\n",
    "\n",
    "use_cuda = torch.cuda.is_available()"
   ]
  },
  {
   "cell_type": "code",
   "execution_count": 5,
   "metadata": {},
   "outputs": [],
   "source": [
    "def train(model,epochs,train_loader,valid_loader,lr=0.03):\n",
    "    train_losses_e =[]\n",
    "    valid_losses_e =[]\n",
    "    accuracies_e = []\n",
    "    loss_min = np.inf\n",
    "    criterion = nn.CrossEntropyLoss()\n",
    "    optimizer = torch.optim.Adam(model.parameters(), lr=lr)\n",
    "    for e in range(epochs):\n",
    "        running_loss = 0\n",
    "        train_losses =[]\n",
    "        valid_losses =[]\n",
    "        accuracies = []\n",
    "        for images,labels in train_loader:\n",
    "            # Flatten MNIST images into a 784 long vector\n",
    "            \n",
    "            images = images.squeeze()\n",
    "            h = model.init_hidden(images.shape[0])\n",
    "            h = tuple([each.data for each in h])\n",
    "            \n",
    "            if use_cuda:\n",
    "                images,labels = images.cuda(),labels.cuda()\n",
    "            optimizer.zero_grad()\n",
    "            # TODO: Training pass\n",
    "            output ,h= model(images,h)\n",
    "            \n",
    "            loss = criterion(output, labels)\n",
    "            # print(loss)\n",
    "            loss.backward()\n",
    "            optimizer.step()\n",
    "            train_losses.append(loss.item())\n",
    "        model.eval()\n",
    "        for images,labels in valid_loader:\n",
    "            images = images.squeeze()\n",
    "            h = model.init_hidden(images.shape[0])\n",
    "            h = tuple([each.data for each in h])\n",
    "            \n",
    "            if use_cuda:\n",
    "                images,labels = images.cuda(),labels.cuda()\n",
    "            out,h = model(images,h)\n",
    "            valid_loss = criterion(out,labels)\n",
    "            _,index = out.topk(1,dim=1)\n",
    "            eq = index == labels.view(index.shape)\n",
    "            accuracy = torch.mean(eq.type(torch.FloatTensor)).item()\n",
    "            valid_losses.append(valid_loss.item())\n",
    "            accuracies.append(accuracy)\n",
    "        train_losses_e.append(np.mean(train_losses))\n",
    "        valid_losses_e.append(np.mean(valid_losses))\n",
    "        accuracies_e.append(np.mean(accuracies))\n",
    "        print(e+1,\"/\",epochs,\"Training loss: {},Valid_loss:{},Valid_accuracy:{}\".format(np.mean(train_losses),np.mean(valid_losses),np.mean(accuracies)))\n",
    "        if loss_min > np.mean(valid_losses):     \n",
    "            print('Loss decrease...')\n",
    "            loss_min = np.mean(valid_losses)\n",
    "            torch.save(model.state_dict(),'model/net_mnist_loss_min_lstm_old.pth')\n",
    "            \n",
    "        \n",
    "        model.train()\n",
    "    print('min loss:',loss_min)\n",
    "    plt.plot(train_losses_e,color='r',label='train_loss')\n",
    "    plt.plot(valid_losses_e,color='g',label='valid_loss')\n",
    "    plt.title('Loss_Trend')\n",
    "    plt.xlabel('Epoches')\n",
    "    plt.ylabel('Loss')\n",
    "    plt.legend()\n",
    "    plt.savefig('image/loss_lstm_old.svg')\n",
    "    return  accuracies_e"
   ]
  },
  {
   "cell_type": "code",
   "execution_count": 6,
   "metadata": {},
   "outputs": [
    {
     "name": "stdout",
     "output_type": "stream",
     "text": [
      "1 / 60 Training loss: 0.7980304150693198,Valid_loss:0.3792056512087584,Valid_accuracy:0.8767578125\n",
      "Loss decrease...\n",
      "2 / 60 Training loss: 0.21863662504724093,Valid_loss:0.20454031452536584,Valid_accuracy:0.933203125\n",
      "Loss decrease...\n",
      "3 / 60 Training loss: 0.14655712858509662,Valid_loss:0.1940183939412236,Valid_accuracy:0.934765625\n",
      "Loss decrease...\n",
      "4 / 60 Training loss: 0.10972486396254634,Valid_loss:0.17778507247567177,Valid_accuracy:0.9419921875\n",
      "Loss decrease...\n",
      "5 / 60 Training loss: 0.08505743270171985,Valid_loss:0.14578244872391224,Valid_accuracy:0.955859375\n",
      "Loss decrease...\n",
      "6 / 60 Training loss: 0.06852577318514842,Valid_loss:0.11650055376812815,Valid_accuracy:0.9640625\n",
      "Loss decrease...\n",
      "7 / 60 Training loss: 0.05714223409957215,Valid_loss:0.11833555679768323,Valid_accuracy:0.96171875\n",
      "8 / 60 Training loss: 0.048675599946840994,Valid_loss:0.10478468062356114,Valid_accuracy:0.96640625\n",
      "Loss decrease...\n",
      "9 / 60 Training loss: 0.042205491792291466,Valid_loss:0.12344461153261363,Valid_accuracy:0.9662109375\n",
      "10 / 60 Training loss: 0.03658601225836318,Valid_loss:0.10393442884087563,Valid_accuracy:0.970703125\n",
      "Loss decrease...\n",
      "11 / 60 Training loss: 0.031666327629293965,Valid_loss:0.09270322481170297,Valid_accuracy:0.97265625\n",
      "Loss decrease...\n",
      "12 / 60 Training loss: 0.02722714346910972,Valid_loss:0.08679410107433796,Valid_accuracy:0.9732421875\n",
      "Loss decrease...\n",
      "13 / 60 Training loss: 0.023266960308750046,Valid_loss:0.07813571812584996,Valid_accuracy:0.97578125\n",
      "Loss decrease...\n",
      "14 / 60 Training loss: 0.020444760297629625,Valid_loss:0.06516049327328802,Valid_accuracy:0.980859375\n",
      "Loss decrease...\n",
      "15 / 60 Training loss: 0.018771466018675742,Valid_loss:0.07294141873717308,Valid_accuracy:0.9771484375\n",
      "16 / 60 Training loss: 0.018424157859451736,Valid_loss:0.07624346520751715,Valid_accuracy:0.9755859375\n",
      "17 / 60 Training loss: 0.01595794841615376,Valid_loss:0.07597441738471389,Valid_accuracy:0.976171875\n",
      "18 / 60 Training loss: 0.013601033473764656,Valid_loss:0.07421692321076989,Valid_accuracy:0.98046875\n",
      "19 / 60 Training loss: 0.013548659113074926,Valid_loss:0.07628055596724152,Valid_accuracy:0.9791015625\n",
      "20 / 60 Training loss: 0.013616461223408358,Valid_loss:0.0919860971160233,Valid_accuracy:0.97421875\n",
      "21 / 60 Training loss: 0.010744681367392478,Valid_loss:0.08471022257581354,Valid_accuracy:0.97734375\n",
      "22 / 60 Training loss: 0.008891541526706489,Valid_loss:0.0811980364844203,Valid_accuracy:0.9763671875\n",
      "23 / 60 Training loss: 0.006987102250300491,Valid_loss:0.07930194493383169,Valid_accuracy:0.9798828125\n",
      "24 / 60 Training loss: 0.007876629097216419,Valid_loss:0.07865140847861767,Valid_accuracy:0.978515625\n",
      "25 / 60 Training loss: 0.008416630764569302,Valid_loss:0.07515284609980881,Valid_accuracy:0.98125\n",
      "26 / 60 Training loss: 0.008414409053859427,Valid_loss:0.08202659161761403,Valid_accuracy:0.978125\n",
      "27 / 60 Training loss: 0.006232193430889644,Valid_loss:0.08546507670544087,Valid_accuracy:0.976953125\n",
      "28 / 60 Training loss: 0.0063133260000870425,Valid_loss:0.09504953641444444,Valid_accuracy:0.97578125\n",
      "29 / 60 Training loss: 0.004872152653298398,Valid_loss:0.08713677134364843,Valid_accuracy:0.978125\n",
      "30 / 60 Training loss: 0.008074125727769662,Valid_loss:0.08117419895716012,Valid_accuracy:0.976953125\n",
      "31 / 60 Training loss: 0.0038077318782745394,Valid_loss:0.09848558250814676,Valid_accuracy:0.9734375\n",
      "32 / 60 Training loss: 0.006158214292800757,Valid_loss:0.08733481680974364,Valid_accuracy:0.975\n",
      "33 / 60 Training loss: 0.00537605696856213,Valid_loss:0.07497833892703057,Valid_accuracy:0.9810546875\n",
      "34 / 60 Training loss: 0.005738133914085594,Valid_loss:0.08043766799382865,Valid_accuracy:0.978515625\n",
      "35 / 60 Training loss: 0.003016133715253649,Valid_loss:0.07849419210106134,Valid_accuracy:0.9796875\n",
      "36 / 60 Training loss: 0.006450477808809229,Valid_loss:0.1055512865073979,Valid_accuracy:0.9748046875\n",
      "37 / 60 Training loss: 0.0033942222523727396,Valid_loss:0.06619698517024517,Valid_accuracy:0.983203125\n",
      "38 / 60 Training loss: 0.003067379793537451,Valid_loss:0.1178196644410491,Valid_accuracy:0.96875\n",
      "39 / 60 Training loss: 0.0028621914234560437,Valid_loss:0.07267023138701915,Valid_accuracy:0.98203125\n",
      "40 / 60 Training loss: 0.00172399327174814,Valid_loss:0.07593982424587012,Valid_accuracy:0.9810546875\n",
      "41 / 60 Training loss: 0.009276154532488475,Valid_loss:0.07539697280153632,Valid_accuracy:0.97890625\n",
      "42 / 60 Training loss: 0.0034007486988550054,Valid_loss:0.0679604472592473,Valid_accuracy:0.9828125\n",
      "43 / 60 Training loss: 0.0023770104370900054,Valid_loss:0.09003864759579301,Valid_accuracy:0.980078125\n",
      "44 / 60 Training loss: 0.0033870043316439015,Valid_loss:0.06937480764463544,Valid_accuracy:0.982421875\n",
      "45 / 60 Training loss: 0.003243063574533727,Valid_loss:0.07296395800076425,Valid_accuracy:0.984765625\n",
      "46 / 60 Training loss: 0.006529138111737745,Valid_loss:0.0776521519292146,Valid_accuracy:0.9818359375\n",
      "47 / 60 Training loss: 0.002563710127875749,Valid_loss:0.061612505186349156,Valid_accuracy:0.983984375\n",
      "Loss decrease...\n",
      "48 / 60 Training loss: 0.0009024255096848839,Valid_loss:0.055355335026979445,Valid_accuracy:0.9861328125\n",
      "Loss decrease...\n",
      "49 / 60 Training loss: 0.0018004694743070013,Valid_loss:0.07617775984108448,Valid_accuracy:0.9822265625\n",
      "50 / 60 Training loss: 0.0072263985403628744,Valid_loss:0.09310024175792933,Valid_accuracy:0.9767578125\n",
      "51 / 60 Training loss: 0.0032399377620804795,Valid_loss:0.06493151606991887,Valid_accuracy:0.9830078125\n",
      "52 / 60 Training loss: 0.0005624031127770064,Valid_loss:0.05712064653635025,Valid_accuracy:0.983984375\n",
      "53 / 60 Training loss: 0.0002303551683929175,Valid_loss:0.05653592357411981,Valid_accuracy:0.984765625\n",
      "54 / 60 Training loss: 0.00011202348505398993,Valid_loss:0.056501408107578754,Valid_accuracy:0.9849609375\n",
      "55 / 60 Training loss: 8.056925729846459e-05,Valid_loss:0.057361889816820624,Valid_accuracy:0.984765625\n",
      "56 / 60 Training loss: 6.338711187585013e-05,Valid_loss:0.058316825330257414,Valid_accuracy:0.9845703125\n",
      "57 / 60 Training loss: 5.104881264507644e-05,Valid_loss:0.05924766724929213,Valid_accuracy:0.984765625\n",
      "58 / 60 Training loss: 4.148870636560102e-05,Valid_loss:0.060254713892936705,Valid_accuracy:0.9849609375\n",
      "59 / 60 Training loss: 3.3836671412348556e-05,Valid_loss:0.06116698160767555,Valid_accuracy:0.9849609375\n",
      "60 / 60 Training loss: 2.7621981748905995e-05,Valid_loss:0.062133329920470715,Valid_accuracy:0.9853515625\n",
      "min loss: 0.055355335026979445\n",
      "Training Time is: 1834.8589284420013 s\n"
     ]
    },
    {
     "data": {
      "image/png": "[encoded data removed]",
      "text/plain": [
       "<matplotlib.figure.Figure at 0x7f0d3443a0b8>"
      ]
     },
     "metadata": {
      "needs_background": "light"
     },
     "output_type": "display_data"
    }
   ],
   "source": [
    "model = LSTM(28,10,512,2) #512,2 0.983  256,2 0.983 ,64 ,2 0.984,32,2,0.983,256,4.0.983\n",
    "if use_cuda:\n",
    "    model.cuda()\n",
    "from time import time\n",
    "start = time()\n",
    "accuracy = train(model, 60,train_loader,valid_loader,0.0001)\n",
    "print('Training Time is:',time()-start,'s')"
   ]
  },
  {
   "cell_type": "code",
   "execution_count": 7,
   "metadata": {},
   "outputs": [
    {
     "data": {
      "image/png": "[encoded data removed]",
      "text/plain": [
       "<matplotlib.figure.Figure at 0x7f0ca04b3940>"
      ]
     },
     "metadata": {
      "needs_background": "light"
     },
     "output_type": "display_data"
    }
   ],
   "source": [
    "plt.plot(accuracy,color='b',label='accuracy')\n",
    "plt.title('Accuracy_Trend')\n",
    "plt.xlabel('Epoches')\n",
    "plt.ylabel('Accuracy')\n",
    "plt.legend()\n",
    "plt.savefig('image/accuracy_lstm_old.svg')"
   ]
  },
  {
   "cell_type": "code",
   "execution_count": 8,
   "metadata": {},
   "outputs": [],
   "source": [
    "def test(net,test_loader):\n",
    "    criterion = nn.CrossEntropyLoss()\n",
    "    valid_loss = []\n",
    "    accuracies_ = []\n",
    "    class_correct = np.zeros(10)\n",
    "    class_total = np.zeros(10)\n",
    "    classes = ['0','1','2','3','4','5','6','7','8','9']\n",
    "    net.eval()\n",
    "    for x,y in test_loader:\n",
    "        x = x.squeeze()\n",
    "        h = net.init_hidden(x.shape[0])\n",
    "        h = tuple([each.data for each in h])\n",
    "        if use_cuda:\n",
    "            x,y = x.cuda(),y.cuda()\n",
    "        out,h = net(x,h)\n",
    "        loss = criterion(out,y)\n",
    "        _,class_ = torch.max(out,dim=1)\n",
    "        equal = class_ == y.view(class_.shape)\n",
    "        for i in range(y.shape[0]):\n",
    "            label = y.data[i].item()\n",
    "            class_correct[label] += equal[i].item()\n",
    "            class_total[label] += 1\n",
    "        accuracy = torch.mean(equal.type(torch.FloatTensor)).item()\n",
    "        accuracies_.append(accuracy)\n",
    "        \n",
    "        valid_loss.append(loss.item())\n",
    "    #print('Test Loss: {:.6f}\\n'.format(loss.item()))\n",
    "    for i in range(10):\n",
    "        if class_total[i]>0:\n",
    "            print('Test Accuracy of {}:{:.4f}({}/{})'.format(classes[i],100*class_correct[i]/class_total[i],\n",
    "                 int(np.sum(class_correct[i])),\n",
    "                 int(np.sum(class_total[i]))))\n",
    "        else:\n",
    "            print('Test Accuracy of {}:N/A(no examples)'.format(classes[i]))\n",
    "    print('Test Accuracy(Overall):{:.4f} ({}/{})'.format(100*np.sum(class_correct)/np.sum(class_total),\n",
    "                                                    int(np.sum(class_correct)),\n",
    "                                                    int(np.sum(class_total))))\n",
    "    print('Test Loss:',np.mean(valid_loss),'Test Accuracy:',np.mean(accuracies_))"
   ]
  },
  {
   "cell_type": "code",
   "execution_count": 9,
   "metadata": {},
   "outputs": [
    {
     "name": "stdout",
     "output_type": "stream",
     "text": [
      "Test Accuracy of 0:99.4231(517/520)\n",
      "Test Accuracy of 1:99.1135(559/564)\n",
      "Test Accuracy of 2:99.8008(501/502)\n",
      "Test Accuracy of 3:99.4118(507/510)\n",
      "Test Accuracy of 4:99.1701(478/482)\n",
      "Test Accuracy of 5:99.0826(432/436)\n",
      "Test Accuracy of 6:100.0000(496/496)\n",
      "Test Accuracy of 7:99.2248(512/516)\n",
      "Test Accuracy of 8:99.3814(482/485)\n",
      "Test Accuracy of 9:99.5910(487/489)\n",
      "Test Accuracy(Overall):99.4200 (4971/5000)\n",
      "Test Loss: 0.029482278693467378 Test Accuracy: 0.9943359375\n"
     ]
    }
   ],
   "source": [
    "model_test = LSTM(28,10,512,2)\n",
    "if use_cuda:\n",
    "    model_test.cuda()\n",
    "model_test.load_state_dict(torch.load('model/net_mnist_loss_min_lstm_old.pth'))\n",
    "test(model_test,test_loader)"
   ]
  },
  {
   "cell_type": "code",
   "execution_count": null,
   "metadata": {},
   "outputs": [],
   "source": []
  }
 ],
 "metadata": {
  "kernelspec": {
   "display_name": "Python 3",
   "language": "python",
   "name": "python3"
  },
  "language_info": {
   "codemirror_mode": {
    "name": "ipython",
    "version": 3
   },
   "file_extension": ".py",
   "mimetype": "text/x-python",
   "name": "python",
   "nbconvert_exporter": "python",
   "pygments_lexer": "ipython3",
   "version": "3.5.2"
  }
 },
 "nbformat": 4,
 "nbformat_minor": 2
}
