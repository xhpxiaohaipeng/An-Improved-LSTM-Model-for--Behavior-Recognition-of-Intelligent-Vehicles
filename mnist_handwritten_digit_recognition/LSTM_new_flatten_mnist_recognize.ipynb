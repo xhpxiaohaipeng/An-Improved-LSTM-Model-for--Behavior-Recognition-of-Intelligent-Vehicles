{
 "cells": [
  {
   "cell_type": "code",
   "execution_count": 1,
   "metadata": {},
   "outputs": [],
   "source": [
    "from torch import optim\n",
    "from  torch import nn\n",
    "from torchvision import datasets, transforms\n",
    "import torch.nn.functional as F\n",
    "import torch\n",
    "import helper\n",
    "import matplotlib.pyplot as plt\n",
    "import numpy as np"
   ]
  },
  {
   "cell_type": "code",
   "execution_count": 2,
   "metadata": {},
   "outputs": [],
   "source": [
    "# Define a transform to normalize the data\n",
    "transform = transforms.Compose([transforms.ToTensor(),\n",
    "                              transforms.Normalize((0.5,), (0.5,)),\n",
    "                              ])\n",
    "batch_size = 128\n",
    "# Download and load the training data\n",
    "train_set = datasets.MNIST('MNIST_data/', download=True, train=True, transform=transform)\n",
    "test_set = datasets.MNIST('MNIST_data/',download=True,train=False,transform=transform)\n",
    "\n",
    "num_works = 0\n",
    "valid_split = 0.5\n",
    "#把test数据集分成test和valid\n",
    "num_test = len(test_set)#得到数据大小\n",
    "indices = list(range(num_test))#得到下表索引值列表\n",
    "#np.random.shuffle(indices)\n",
    "\n",
    "split = int(np.floor(valid_split*num_test))# 返回不大于输入参数的最大整数。 即对于输入值 x ，将返回最大的整数 i ，使得 i <= x\n",
    "test_idx,valid_idx = indices[split:],indices[:split] #返回所需的元素索引列表\n",
    "\n",
    "test_sampler = torch.utils.data.sampler.SubsetRandomSampler(test_idx) #样本元素从指定的索引列表中随机抽取，没有替换。参数： - indices (list) – 索引的列表\n",
    "valid_sampler = torch.utils.data.sampler.SubsetRandomSampler(valid_idx)\n",
    "\n",
    "train_loader = torch.utils.data.DataLoader(train_set, batch_size=batch_size, shuffle=False,num_workers=num_works)\n",
    "test_loader = torch.utils.data.DataLoader(test_set,batch_size=batch_size,shuffle=False,sampler=test_sampler,num_workers=num_works)\n",
    "valid_loader = torch.utils.data.DataLoader(test_set,batch_size=batch_size,shuffle=False,sampler=valid_sampler,num_workers=num_works)"
   ]
  },
  {
   "cell_type": "code",
   "execution_count": 3,
   "metadata": {},
   "outputs": [
    {
     "name": "stdout",
     "output_type": "stream",
     "text": [
      "60000\n",
      "10000\n"
     ]
    }
   ],
   "source": [
    "print(len(train_set))\n",
    "print(len(test_set))"
   ]
  },
  {
   "cell_type": "code",
   "execution_count": 5,
   "metadata": {},
   "outputs": [
    {
     "data": {
      "image/png": "[encoded data removed]",
      "text/plain": [
       "<matplotlib.figure.Figure at 0x7f05d256a908>"
      ]
     },
     "metadata": {},
     "output_type": "display_data"
    }
   ],
   "source": [
    "dataiter = iter(train_loader)\n",
    "images,labels = dataiter.next()\n",
    "\n",
    "images = images.numpy()\n",
    "\n",
    "fig = plt.figure(figsize=(25,4),facecolor='white')\n",
    "\n",
    "for idx in np.arange(20):\n",
    "    ax = fig.add_subplot(2,20/2,idx+1,xticks=[],yticks=[])\n",
    "    ax.imshow(np.squeeze(images[idx]),cmap='gray')\n",
    "    ax.set_title(str(labels[idx].item()))\n",
    "\n"
   ]
  },
  {
   "cell_type": "code",
   "execution_count": 6,
   "metadata": {},
   "outputs": [
    {
     "data": {
      "text/plain": [
       "<matplotlib.figure.Figure at 0x7f05d22d5710>"
      ]
     },
     "metadata": {},
     "output_type": "display_data"
    }
   ],
   "source": [
    "#更仔细地查看图像\n",
    "dataiter = iter(train_loader)\n",
    "images,labels = dataiter.next()\n",
    "\n",
    "images = images.numpy()\n",
    "img = np.squeeze(images[0])\n",
    "\n",
    "fig = plt.figure(figsize=(12,12))\n",
    "ax.imshow(img,cmap='gray')\n",
    "width,height = img.shape\n",
    "thresh = img.max()/2.5\n",
    "for x in range(width):\n",
    "    for y in range(height):\n",
    "        val = round(img[x][y],2) if img[x][y] != 0 else 0\n",
    "        ax.annotate(str(val),xy=(y,x),\n",
    "                    horizontalalignment='center',\n",
    "                    verticalalignment='center',\n",
    "                    color ='white' if img[x][y]<thresh else 'black')\n",
    "        ax.imshow(img,cmap='gray')"
   ]
  },
  {
   "cell_type": "code",
   "execution_count": 7,
   "metadata": {},
   "outputs": [],
   "source": [
    "class LSTM(nn.Module):\n",
    "    def __init__(self, input_size, output_size, hidden_dim, n_layers):\n",
    "        super(LSTM, self).__init__()\n",
    "        \n",
    "        self.hidden_dim=hidden_dim\n",
    "        self.n_layers = n_layers\n",
    "        # define an RNN with specified parameters\n",
    "        # batch_first means that the first dim of the input and output will be the batch_size\n",
    "        self.lstm = nn.LSTM(input_size, hidden_dim, n_layers,dropout=0.5, batch_first=True)\n",
    "        \n",
    "        # last, fully-connected layer\n",
    "        self.fc1 = nn.Linear(hidden_dim,hidden_dim*2)\n",
    "        self.fc = nn.Linear(hidden_dim*2, output_size)\n",
    "        self.fc2 = nn.Linear(hidden_dim,output_size)\n",
    "      #  self.softmax = nn.Softmax(dim=1)\n",
    "    def forward(self, x, hidden):\n",
    "        # x (batch_size, seq_length, input_size)\n",
    "        # hidden (n_layers, batch_size, hidden_dim)\n",
    "        # r_out (batch_size, time_step, hidden_size)\n",
    "        batch_size = x.size(0)\n",
    "        \n",
    "        # get RNN outputs\n",
    "        r_out, hidden = self.lstm(x, hidden)\n",
    "        \"\"\"\n",
    "        r_out = torch.mean(r_out,dim=2).squeeze()\n",
    "        \n",
    "        output= self.fc2(r_out)\n",
    "        # shape output to be (batch_size*seq_length, hidden_dim)\n",
    "        \"\"\"\n",
    "        r_out = r_out.contiguous().view(-1, self.hidden_dim)  \n",
    "        \n",
    "        # get final output \n",
    "        output = self.fc2(r_out)\n",
    "       # output = self.fc(output)\n",
    "       # output = output.view(batch_size,-1,10)\n",
    "        #output = output[:,-1]\n",
    "      #  output = self.softmax(output)\n",
    "        \n",
    "        return output, hidden\n",
    "    \n",
    "    def init_hidden(self, batch_size):\n",
    "        ''' Initializes hidden state '''\n",
    "        # Create two new tensors with sizes n_layers x batch_size x hidden_dim,\n",
    "        # initialized to zero, for hidden state and cell state of LSTM\n",
    "        weight = next(self.parameters()).data\n",
    "\n",
    "        if use_cuda:\n",
    "            hidden = (weight.new(self.n_layers, batch_size, self.hidden_dim).zero_().cuda(),\n",
    "                      weight.new(self.n_layers, batch_size, self.hidden_dim).zero_().cuda())\n",
    "        else:\n",
    "            hidden = (weight.new(self.n_layers, batch_size, self.hidden_dim).zero_(),\n",
    "                      weight.new(self.n_layers, batch_size, self.hidden_dim).zero_())\n",
    "\n",
    "        return hidden\n",
    "\n",
    "use_cuda = torch.cuda.is_available()"
   ]
  },
  {
   "cell_type": "code",
   "execution_count": 8,
   "metadata": {},
   "outputs": [],
   "source": [
    "def train(model,epochs,train_loader,valid_loader,lr=0.03):\n",
    "    train_losses_e =[]\n",
    "    valid_losses_e =[]\n",
    "    accuracies_e = []\n",
    "    loss_min = np.inf\n",
    "    criterion = nn.CrossEntropyLoss()\n",
    "    optimizer = torch.optim.Adam(model.parameters(), lr=lr)\n",
    "    for e in range(epochs):\n",
    "        running_loss = 0\n",
    "        train_losses =[]\n",
    "        valid_losses =[]\n",
    "        accuracies = []\n",
    "        for images,labels in train_loader:\n",
    "            # Flatten MNIST images into a 784 long vector\n",
    "            \n",
    "            images = images.squeeze().view(images.shape[0],-1)\n",
    "            images = images.unsqueeze(1)\n",
    "            h = model.init_hidden(images.shape[0])\n",
    "            h = tuple([each.data for each in h])\n",
    "            \n",
    "            if use_cuda:\n",
    "                images,labels = images.cuda(),labels.cuda()\n",
    "            optimizer.zero_grad()\n",
    "            # TODO: Training pass\n",
    "            output ,h= model(images,h)\n",
    "            \n",
    "            loss = criterion(output, labels)\n",
    "            # print(loss)\n",
    "            loss.backward()\n",
    "            optimizer.step()\n",
    "            train_losses.append(loss.item())\n",
    "        model.eval()\n",
    "        for images,labels in valid_loader:\n",
    "            images = images.squeeze().view(images.shape[0],-1)\n",
    "            images = images.unsqueeze(1)\n",
    "            h = model.init_hidden(images.shape[0])\n",
    "            h = tuple([each.data for each in h])\n",
    "            \n",
    "            if use_cuda:\n",
    "                images,labels = images.cuda(),labels.cuda()\n",
    "            out,h = model(images,h)\n",
    "            valid_loss = criterion(out,labels)\n",
    "            _,index = out.topk(1,dim=1)\n",
    "            eq = index == labels.view(index.shape)\n",
    "            accuracy = torch.mean(eq.type(torch.FloatTensor)).item()\n",
    "            valid_losses.append(valid_loss.item())\n",
    "            accuracies.append(accuracy)\n",
    "        train_losses_e.append(np.mean(train_losses))\n",
    "        valid_losses_e.append(np.mean(valid_losses))\n",
    "        accuracies_e.append(np.mean(accuracies))\n",
    "        print(e+1,\"/\",epochs,\"Training loss: {},Valid_loss:{},Valid_accuracy:{}\".format(np.mean(train_losses),np.mean(valid_losses),np.mean(accuracies)))\n",
    "        if loss_min > np.mean(valid_losses):     \n",
    "            print('Loss decrease...')\n",
    "            loss_min = np.mean(valid_losses)\n",
    "            torch.save(model.state_dict(),'model/net_mnist_loss_min_lstm_new.pth')\n",
    "            \n",
    "        \n",
    "        model.train()\n",
    "    print('min loss:',loss_min)\n",
    "    plt.plot(train_losses_e,color='r',label='train_loss')\n",
    "    plt.plot(valid_losses_e,color='g',label='valid_loss')\n",
    "    plt.title('Loss_Trend')\n",
    "    plt.xlabel('Epoches')\n",
    "    plt.ylabel('Loss')\n",
    "    plt.legend()\n",
    "    plt.savefig('image/loss_lstm_new.svg')\n",
    "    return  accuracies_e"
   ]
  },
  {
   "cell_type": "code",
   "execution_count": 23,
   "metadata": {},
   "outputs": [
    {
     "name": "stdout",
     "output_type": "stream",
     "text": [
      "1 / 60 Training loss: 1.0087501410800002,Valid_loss:0.4559609845280647,Valid_accuracy:0.8703125\n",
      "Loss decrease...\n",
      "2 / 60 Training loss: 0.36791274766487353,Valid_loss:0.3459227215498686,Valid_accuracy:0.8958984375\n",
      "Loss decrease...\n",
      "3 / 60 Training loss: 0.29531367212883447,Valid_loss:0.29458317570388315,Valid_accuracy:0.9103515625\n",
      "Loss decrease...\n",
      "4 / 60 Training loss: 0.2545493726473627,Valid_loss:0.2566205333918333,Valid_accuracy:0.9189453125\n",
      "Loss decrease...\n",
      "5 / 60 Training loss: 0.22217593496160976,Valid_loss:0.22784062959253787,Valid_accuracy:0.9271484375\n",
      "Loss decrease...\n",
      "6 / 60 Training loss: 0.19573101430718323,Valid_loss:0.20450820066034794,Valid_accuracy:0.9376953125\n",
      "Loss decrease...\n",
      "7 / 60 Training loss: 0.17818623701773728,Valid_loss:0.185641529597342,Valid_accuracy:0.94296875\n",
      "Loss decrease...\n",
      "8 / 60 Training loss: 0.1612211410313654,Valid_loss:0.171132623963058,Valid_accuracy:0.947265625\n",
      "Loss decrease...\n",
      "9 / 60 Training loss: 0.14702702664744371,Valid_loss:0.16178305633366108,Valid_accuracy:0.949609375\n",
      "Loss decrease...\n",
      "10 / 60 Training loss: 0.13928698601403725,Valid_loss:0.15387615878134966,Valid_accuracy:0.951171875\n",
      "Loss decrease...\n",
      "11 / 60 Training loss: 0.126918829921911,Valid_loss:0.1540114028379321,Valid_accuracy:0.9513671875\n",
      "12 / 60 Training loss: 0.11933118432585492,Valid_loss:0.13730022870004177,Valid_accuracy:0.955078125\n",
      "Loss decrease...\n",
      "13 / 60 Training loss: 0.11339691128017806,Valid_loss:0.13104996019974352,Valid_accuracy:0.9591796875\n",
      "Loss decrease...\n",
      "14 / 60 Training loss: 0.10713369970017278,Valid_loss:0.14097590995952486,Valid_accuracy:0.95859375\n",
      "15 / 60 Training loss: 0.10076135847725466,Valid_loss:0.12137313960120082,Valid_accuracy:0.9623046875\n",
      "Loss decrease...\n",
      "16 / 60 Training loss: 0.0960387196074099,Valid_loss:0.12082548011094332,Valid_accuracy:0.9623046875\n",
      "Loss decrease...\n",
      "17 / 60 Training loss: 0.09159680771659305,Valid_loss:0.11448172270320356,Valid_accuracy:0.9640625\n",
      "Loss decrease...\n",
      "18 / 60 Training loss: 0.08681984557144677,Valid_loss:0.10770561303943396,Valid_accuracy:0.9654296875\n",
      "Loss decrease...\n",
      "19 / 60 Training loss: 0.08352915760375924,Valid_loss:0.10756058134138584,Valid_accuracy:0.965625\n",
      "Loss decrease...\n",
      "20 / 60 Training loss: 0.07903629109295192,Valid_loss:0.10619548475369811,Valid_accuracy:0.9654296875\n",
      "Loss decrease...\n",
      "21 / 60 Training loss: 0.07451601698597483,Valid_loss:0.1013754814863205,Valid_accuracy:0.967578125\n",
      "Loss decrease...\n",
      "22 / 60 Training loss: 0.07296270280202696,Valid_loss:0.10128013724461198,Valid_accuracy:0.967578125\n",
      "Loss decrease...\n",
      "23 / 60 Training loss: 0.07079014692034548,Valid_loss:0.10030825352296233,Valid_accuracy:0.968359375\n",
      "Loss decrease...\n",
      "24 / 60 Training loss: 0.06667991461895549,Valid_loss:0.09655755409039557,Valid_accuracy:0.969921875\n",
      "Loss decrease...\n",
      "25 / 60 Training loss: 0.0635182404402159,Valid_loss:0.09477277575060725,Valid_accuracy:0.9703125\n",
      "Loss decrease...\n",
      "26 / 60 Training loss: 0.06086271183926668,Valid_loss:0.09573266599327326,Valid_accuracy:0.9697265625\n",
      "27 / 60 Training loss: 0.06079834371185633,Valid_loss:0.09301209622062742,Valid_accuracy:0.96796875\n",
      "Loss decrease...\n",
      "28 / 60 Training loss: 0.05772006474355899,Valid_loss:0.1026424198411405,Valid_accuracy:0.9685546875\n",
      "29 / 60 Training loss: 0.05655436966020161,Valid_loss:0.09152798112481833,Valid_accuracy:0.969140625\n",
      "Loss decrease...\n",
      "30 / 60 Training loss: 0.05312156554923129,Valid_loss:0.09095529913902282,Valid_accuracy:0.971484375\n",
      "Loss decrease...\n",
      "31 / 60 Training loss: 0.051619687580318846,Valid_loss:0.08575445041060448,Valid_accuracy:0.97265625\n",
      "Loss decrease...\n",
      "32 / 60 Training loss: 0.050441477531150206,Valid_loss:0.08617574330419302,Valid_accuracy:0.9720703125\n",
      "33 / 60 Training loss: 0.04920608881932459,Valid_loss:0.0897604283876717,Valid_accuracy:0.9712890625\n",
      "34 / 60 Training loss: 0.04590445182232587,Valid_loss:0.08965181028470397,Valid_accuracy:0.971484375\n",
      "35 / 60 Training loss: 0.046033914703359484,Valid_loss:0.09118129117414356,Valid_accuracy:0.9693359375\n",
      "36 / 60 Training loss: 0.0438506861668088,Valid_loss:0.08703713174909353,Valid_accuracy:0.9732421875\n",
      "37 / 60 Training loss: 0.04311040365127231,Valid_loss:0.08377978894859553,Valid_accuracy:0.9728515625\n",
      "Loss decrease...\n",
      "38 / 60 Training loss: 0.04112973268717718,Valid_loss:0.0894341136328876,Valid_accuracy:0.971484375\n",
      "39 / 60 Training loss: 0.04049140201019707,Valid_loss:0.09052855190820992,Valid_accuracy:0.9708984375\n",
      "40 / 60 Training loss: 0.03941889928141509,Valid_loss:0.08261336837895214,Valid_accuracy:0.975\n",
      "Loss decrease...\n",
      "41 / 60 Training loss: 0.03746835138402514,Valid_loss:0.08014247994869947,Valid_accuracy:0.97421875\n",
      "Loss decrease...\n",
      "42 / 60 Training loss: 0.0372117694769142,Valid_loss:0.08153618047945202,Valid_accuracy:0.975\n",
      "43 / 60 Training loss: 0.03647012794132172,Valid_loss:0.08291059071198106,Valid_accuracy:0.9716796875\n",
      "44 / 60 Training loss: 0.036000073392952935,Valid_loss:0.08142363410443068,Valid_accuracy:0.9751953125\n",
      "45 / 60 Training loss: 0.034585215560377025,Valid_loss:0.08154734149575234,Valid_accuracy:0.9744140625\n",
      "46 / 60 Training loss: 0.0336477470749032,Valid_loss:0.08171103680506349,Valid_accuracy:0.9740234375\n",
      "47 / 60 Training loss: 0.031680328112198855,Valid_loss:0.0816938791424036,Valid_accuracy:0.974609375\n",
      "48 / 60 Training loss: 0.03132983356682476,Valid_loss:0.08196156853809952,Valid_accuracy:0.9748046875\n",
      "49 / 60 Training loss: 0.029979452200885267,Valid_loss:0.0822111533023417,Valid_accuracy:0.97578125\n",
      "50 / 60 Training loss: 0.029716488124846396,Valid_loss:0.08660194789990783,Valid_accuracy:0.9734375\n",
      "51 / 60 Training loss: 0.02913638796887672,Valid_loss:0.08154455702751875,Valid_accuracy:0.9755859375\n",
      "52 / 60 Training loss: 0.02954344333473172,Valid_loss:0.08471415331587195,Valid_accuracy:0.975390625\n",
      "53 / 60 Training loss: 0.0280054600945096,Valid_loss:0.07874235217459499,Valid_accuracy:0.977734375\n",
      "Loss decrease...\n",
      "54 / 60 Training loss: 0.026138331383657353,Valid_loss:0.08514095610007644,Valid_accuracy:0.9755859375\n",
      "55 / 60 Training loss: 0.025897333648667406,Valid_loss:0.07818612642586231,Valid_accuracy:0.9759765625\n",
      "Loss decrease...\n",
      "56 / 60 Training loss: 0.025608032906074513,Valid_loss:0.08240387151017785,Valid_accuracy:0.9755859375\n",
      "57 / 60 Training loss: 0.02616473737317743,Valid_loss:0.07642674488015473,Valid_accuracy:0.9783203125\n",
      "Loss decrease...\n",
      "58 / 60 Training loss: 0.02618075023963253,Valid_loss:0.08091087536886335,Valid_accuracy:0.9763671875\n",
      "59 / 60 Training loss: 0.025812618736265055,Valid_loss:0.07889544954523445,Valid_accuracy:0.975\n",
      "60 / 60 Training loss: 0.023233622622324715,Valid_loss:0.0812303657643497,Valid_accuracy:0.9771484375\n",
      "min loss: 0.07642674488015473\n",
      "Training Time is: 460.94663095474243 s\n"
     ]
    },
    {
     "data": {
      "image/png": "[encoded data removed]",
      "text/plain": [
       "<matplotlib.figure.Figure at 0x7f05c33401d0>"
      ]
     },
     "metadata": {
      "needs_background": "light"
     },
     "output_type": "display_data"
    }
   ],
   "source": [
    "model = LSTM(784,10,256,2) #512,2 0.983  256,2 0.983 ,64 ,2 0.984,32,2,0.983,256,4.0.983\n",
    "if use_cuda:\n",
    "    model.cuda()\n",
    "from time import time\n",
    "start = time()\n",
    "accuracy = train(model,60,train_loader,valid_loader,0.0001)\n",
    "print('Training Time is:',time()-start,'s')"
   ]
  },
  {
   "cell_type": "code",
   "execution_count": 26,
   "metadata": {},
   "outputs": [
    {
     "data": {
      "image/png": "[encoded data removed]",
      "text/plain": [
       "<matplotlib.figure.Figure at 0x7f05c212ac50>"
      ]
     },
     "metadata": {
      "needs_background": "light"
     },
     "output_type": "display_data"
    }
   ],
   "source": [
    "plt.plot(accuracy,color='b',label='accuracy')\n",
    "plt.title('Accuracy_Trend')\n",
    "plt.xlabel('Epoches')\n",
    "plt.ylabel('Accuracy')\n",
    "plt.legend()\n",
    "plt.savefig('image/accuracy_lstm_new.svg')"
   ]
  },
  {
   "cell_type": "code",
   "execution_count": 27,
   "metadata": {},
   "outputs": [],
   "source": [
    "def test(net,test_loader):\n",
    "    criterion = nn.CrossEntropyLoss()\n",
    "    valid_loss = []\n",
    "    accuracies_ = []\n",
    "    class_correct = np.zeros(10)\n",
    "    class_total = np.zeros(10)\n",
    "    classes = ['0','1','2','3','4','5','6','7','8','9']\n",
    "    net.eval()\n",
    "    for x,y in test_loader:\n",
    "        x = x.squeeze().view(x.shape[0],-1)\n",
    "        x = x.unsqueeze(1)\n",
    "        h = net.init_hidden(x.shape[0])\n",
    "        h = tuple([each.data for each in h])\n",
    "        if use_cuda:\n",
    "            x,y = x.cuda(),y.cuda()\n",
    "        out,h = net(x,h)\n",
    "        loss = criterion(out,y)\n",
    "        _,class_ = torch.max(out,dim=1)\n",
    "        equal = class_ == y.view(class_.shape)\n",
    "        for i in range(y.shape[0]):\n",
    "            label = y.data[i].item()\n",
    "            class_correct[label] += equal[i].item()\n",
    "            class_total[label] += 1\n",
    "        accuracy = torch.mean(equal.type(torch.FloatTensor)).item()\n",
    "        accuracies_.append(accuracy)\n",
    "        \n",
    "        valid_loss.append(loss.item())\n",
    "    #print('Test Loss: {:.6f}\\n'.format(loss.item()))\n",
    "    for i in range(10):\n",
    "        if class_total[i]>0:\n",
    "            print('Test Accuracy of {}:{:.4f}({}/{})'.format(classes[i],100*class_correct[i]/class_total[i],\n",
    "                 int(np.sum(class_correct[i])),\n",
    "                 int(np.sum(class_total[i]))))\n",
    "        else:\n",
    "            print('Test Accuracy of {}:N/A(no examples)'.format(classes[i]))\n",
    "    print('Test Accuracy(Overall):{:.4f} ({}/{})'.format(100*np.sum(class_correct)/np.sum(class_total),\n",
    "                                                    int(np.sum(class_correct)),\n",
    "                                                    int(np.sum(class_total))))\n",
    "    print('Test Loss:',np.mean(valid_loss),'Test Accuracy:',np.mean(accuracies_))"
   ]
  },
  {
   "cell_type": "code",
   "execution_count": 29,
   "metadata": {},
   "outputs": [
    {
     "name": "stdout",
     "output_type": "stream",
     "text": [
      "Test Accuracy of 0:99.2308(516/520)\n",
      "Test Accuracy of 1:99.4681(561/564)\n",
      "Test Accuracy of 2:99.0040(497/502)\n",
      "Test Accuracy of 3:98.2353(501/510)\n",
      "Test Accuracy of 4:98.9627(477/482)\n",
      "Test Accuracy of 5:99.0826(432/436)\n",
      "Test Accuracy of 6:99.7984(495/496)\n",
      "Test Accuracy of 7:99.0310(511/516)\n",
      "Test Accuracy of 8:98.5567(478/485)\n",
      "Test Accuracy of 9:98.7730(483/489)\n",
      "Test Accuracy(Overall):99.0200 (4951/5000)\n",
      "Test Loss: 0.03256298177875579 Test Accuracy: 0.9904296875\n"
     ]
    }
   ],
   "source": [
    "model_test = LSTM(784,10,256,2)\n",
    "if use_cuda:\n",
    "    model_test.cuda()\n",
    "model_test.load_state_dict(torch.load('model/net_mnist_loss_min_lstm_new.pth'))\n",
    "test(model_test,test_loader)"
   ]
  },
  {
   "cell_type": "code",
   "execution_count": null,
   "metadata": {},
   "outputs": [],
   "source": []
  }
 ],
 "metadata": {
  "kernelspec": {
   "display_name": "Python 3",
   "language": "python",
   "name": "python3"
  },
  "language_info": {
   "codemirror_mode": {
    "name": "ipython",
    "version": 3
   },
   "file_extension": ".py",
   "mimetype": "text/x-python",
   "name": "python",
   "nbconvert_exporter": "python",
   "pygments_lexer": "ipython3",
   "version": "3.5.2"
  }
 },
 "nbformat": 4,
 "nbformat_minor": 2
}
