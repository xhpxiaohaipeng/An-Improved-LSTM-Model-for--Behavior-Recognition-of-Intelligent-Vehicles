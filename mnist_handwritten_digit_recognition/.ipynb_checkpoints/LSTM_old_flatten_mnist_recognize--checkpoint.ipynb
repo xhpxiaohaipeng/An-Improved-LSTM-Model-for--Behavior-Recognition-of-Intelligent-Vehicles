{
 "cells": [
  {
   "cell_type": "code",
   "execution_count": 117,
   "metadata": {},
   "outputs": [],
   "source": [
    "from torch import optim\n",
    "from  torch import nn\n",
    "from torchvision import datasets, transforms\n",
    "import torch.nn.functional as F\n",
    "import torch\n",
    "import helper\n",
    "import matplotlib.pyplot as plt\n",
    "import numpy as np"
   ]
  },
  {
   "cell_type": "code",
   "execution_count": 118,
   "metadata": {},
   "outputs": [],
   "source": [
    "# Define a transform to normalize the data\n",
    "transform = transforms.Compose([transforms.ToTensor(),\n",
    "                              transforms.Normalize((0.5,), (0.5,)),\n",
    "                              ])\n",
    "batch_size = 128\n",
    "# Download and load the training data\n",
    "train_set = datasets.MNIST('MNIST_data/', download=True, train=True, transform=transform)\n",
    "test_set = datasets.MNIST('MNIST_data/',download=True,train=False,transform=transform)\n",
    "\n",
    "num_works = 0\n",
    "valid_split = 0.5\n",
    "#把test数据集分成test和valid\n",
    "num_test = len(test_set)#得到数据大小\n",
    "indices = list(range(num_test))#得到下表索引值列表\n",
    "#np.random.shuffle(indices)\n",
    "\n",
    "split = int(np.floor(valid_split*num_test))# 返回不大于输入参数的最大整数。 即对于输入值 x ，将返回最大的整数 i ，使得 i <= x\n",
    "test_idx,valid_idx = indices[split:],indices[:split] #返回所需的元素索引列表\n",
    "\n",
    "test_sampler = torch.utils.data.sampler.SubsetRandomSampler(test_idx) #样本元素从指定的索引列表中随机抽取，没有替换。参数： - indices (list) – 索引的列表\n",
    "valid_sampler = torch.utils.data.sampler.SubsetRandomSampler(valid_idx)\n",
    "\n",
    "train_loader = torch.utils.data.DataLoader(train_set, batch_size=batch_size, shuffle=False,num_workers=num_works)\n",
    "test_loader = torch.utils.data.DataLoader(test_set,batch_size=batch_size,shuffle=False,sampler=test_sampler,num_workers=num_works)\n",
    "valid_loader = torch.utils.data.DataLoader(test_set,batch_size=batch_size,shuffle=False,sampler=valid_sampler,num_workers=num_works)"
   ]
  },
  {
   "cell_type": "code",
   "execution_count": 3,
   "metadata": {},
   "outputs": [
    {
     "data": {
      "image/png": "[encoded data removed]",
      "text/plain": [
       "<matplotlib.figure.Figure at 0x7ffb2e8f2048>"
      ]
     },
     "metadata": {},
     "output_type": "display_data"
    }
   ],
   "source": [
    "dataiter = iter(train_loader)\n",
    "images,labels = dataiter.next()\n",
    "\n",
    "images = images.numpy()\n",
    "\n",
    "fig = plt.figure(figsize=(25,4),facecolor='white')\n",
    "\n",
    "for idx in np.arange(20):\n",
    "    ax = fig.add_subplot(2,20/2,idx+1,xticks=[],yticks=[])\n",
    "    ax.imshow(np.squeeze(images[idx]),cmap='gray')\n",
    "    ax.set_title(str(labels[idx].item()))\n",
    "\n"
   ]
  },
  {
   "cell_type": "code",
   "execution_count": 119,
   "metadata": {},
   "outputs": [
    {
     "data": {
      "text/plain": [
       "<matplotlib.figure.Figure at 0x7ffba93b55f8>"
      ]
     },
     "metadata": {},
     "output_type": "display_data"
    }
   ],
   "source": [
    "#更仔细地查看图像\n",
    "dataiter = iter(train_loader)\n",
    "images,labels = dataiter.next()\n",
    "\n",
    "images = images.numpy()\n",
    "img = np.squeeze(images[0])\n",
    "\n",
    "fig = plt.figure(figsize=(12,12))\n",
    "ax.imshow(img,cmap='gray')\n",
    "width,height = img.shape\n",
    "thresh = img.max()/2.5\n",
    "for x in range(width):\n",
    "    for y in range(height):\n",
    "        val = round(img[x][y],2) if img[x][y] != 0 else 0\n",
    "        ax.annotate(str(val),xy=(y,x),\n",
    "                    horizontalalignment='center',\n",
    "                    verticalalignment='center',\n",
    "                    color ='white' if img[x][y]<thresh else 'black')\n",
    "        ax.imshow(img,cmap='gray')"
   ]
  },
  {
   "cell_type": "code",
   "execution_count": 133,
   "metadata": {},
   "outputs": [],
   "source": [
    "class LSTM(nn.Module):\n",
    "    def __init__(self, input_size, output_size, hidden_dim, n_layers):\n",
    "        super(LSTM, self).__init__()\n",
    "        \n",
    "        self.hidden_dim=hidden_dim\n",
    "        self.n_layers = n_layers\n",
    "        # define an RNN with specified parameters\n",
    "        # batch_first means that the first dim of the input and output will be the batch_size\n",
    "        self.lstm = nn.LSTM(input_size, hidden_dim, n_layers,dropout=0, batch_first=True)\n",
    "        \n",
    "        # last, fully-connected layer\n",
    "        self.fc1 = nn.Linear(hidden_dim,hidden_dim*2)\n",
    "        self.fc = nn.Linear(hidden_dim*2, output_size)\n",
    "        self.fc2 = nn.Linear(hidden_dim,output_size)\n",
    "      #  self.softmax = nn.Softmax(dim=1)\n",
    "    def forward(self, x, hidden):\n",
    "        # x (batch_size, seq_length, input_size)\n",
    "        # hidden (n_layers, batch_size, hidden_dim)\n",
    "        # r_out (batch_size, time_step, hidden_size)\n",
    "        batch_size = x.size(0)\n",
    "        \n",
    "        # get RNN outputs\n",
    "        r_out, hidden = self.lstm(x, hidden)\n",
    "        \"\"\"\n",
    "        r_out = torch.mean(r_out,dim=2).squeeze()\n",
    "        \n",
    "        output= self.fc2(r_out)\n",
    "        # shape output to be (batch_size*seq_length, hidden_dim)\n",
    "        \"\"\"\n",
    "        r_out = r_out.contiguous().view(-1, self.hidden_dim)  \n",
    "        \n",
    "        # get final output \n",
    "        output = self.fc2(r_out)\n",
    "       # output = self.fc(output)\n",
    "        output = output.view(batch_size,-1,10)\n",
    "        output = output[:,-1]\n",
    "      #  output = self.softmax(output)\n",
    "        \n",
    "        return output, hidden\n",
    "    \n",
    "    def init_hidden(self, batch_size):\n",
    "        ''' Initializes hidden state '''\n",
    "        # Create two new tensors with sizes n_layers x batch_size x hidden_dim,\n",
    "        # initialized to zero, for hidden state and cell state of LSTM\n",
    "        weight = next(self.parameters()).data\n",
    "\n",
    "        if use_cuda:\n",
    "            hidden = (weight.new(self.n_layers, batch_size, self.hidden_dim).zero_().cuda(),\n",
    "                      weight.new(self.n_layers, batch_size, self.hidden_dim).zero_().cuda())\n",
    "        else:\n",
    "            hidden = (weight.new(self.n_layers, batch_size, self.hidden_dim).zero_(),\n",
    "                      weight.new(self.n_layers, batch_size, self.hidden_dim).zero_())\n",
    "\n",
    "        return hidden\n",
    "\n",
    "use_cuda = torch.cuda.is_available()"
   ]
  },
  {
   "cell_type": "code",
   "execution_count": 134,
   "metadata": {},
   "outputs": [],
   "source": [
    "def train(model,epochs,train_loader,valid_loader,lr=0.03):\n",
    "    train_losses_e =[]\n",
    "    valid_losses_e =[]\n",
    "    accuracies_e = []\n",
    "    loss_min = np.inf\n",
    "    criterion = nn.CrossEntropyLoss()\n",
    "    optimizer = torch.optim.Adam(model.parameters(), lr=lr)\n",
    "    for e in range(epochs):\n",
    "        running_loss = 0\n",
    "        train_losses =[]\n",
    "        valid_losses =[]\n",
    "        accuracies = []\n",
    "        for images,labels in train_loader:\n",
    "            # Flatten MNIST images into a 784 long vector\n",
    "            \n",
    "            images = images.squeeze()\n",
    "            h = model.init_hidden(images.shape[0])\n",
    "            h = tuple([each.data for each in h])\n",
    "            \n",
    "            if use_cuda:\n",
    "                images,labels = images.cuda(),labels.cuda()\n",
    "            optimizer.zero_grad()\n",
    "            # TODO: Training pass\n",
    "            output ,h= model(images,h)\n",
    "            \n",
    "            loss = criterion(output, labels)\n",
    "            # print(loss)\n",
    "            loss.backward()\n",
    "            optimizer.step()\n",
    "            train_losses.append(loss.item())\n",
    "        model.eval()\n",
    "        for images,labels in valid_loader:\n",
    "            images = images.squeeze()\n",
    "            h = model.init_hidden(images.shape[0])\n",
    "            h = tuple([each.data for each in h])\n",
    "            \n",
    "            if use_cuda:\n",
    "                images,labels = images.cuda(),labels.cuda()\n",
    "            out,h = model(images,h)\n",
    "            valid_loss = criterion(out,labels)\n",
    "            _,index = out.topk(1,dim=1)\n",
    "            eq = index == labels.view(index.shape)\n",
    "            accuracy = torch.mean(eq.type(torch.FloatTensor)).item()\n",
    "            valid_losses.append(valid_loss.item())\n",
    "            accuracies.append(accuracy)\n",
    "        train_losses_e.append(np.mean(train_losses))\n",
    "        valid_losses_e.append(np.mean(valid_losses))\n",
    "        accuracies_e.append(np.mean(accuracies))\n",
    "        print(e+1,\"/\",epochs,\"Training loss: {},Valid_loss:{},Valid_accuracy:{}\".format(np.mean(train_losses),np.mean(valid_losses),np.mean(accuracies)))\n",
    "        if loss_min > np.mean(valid_losses):     \n",
    "            print('Loss decrease...')\n",
    "            loss_min = np.mean(valid_losses)\n",
    "            torch.save(model.state_dict(),'model/net_mnist_loss_min_lstm_old.pth')\n",
    "            \n",
    "        \n",
    "        model.train()\n",
    "    print('min loss:',loss_min)\n",
    "    plt.plot(train_losses_e,color='r',label='train_loss')\n",
    "    plt.plot(valid_losses_e,color='g',label='valid_loss')\n",
    "    plt.title('Loss_Trend')\n",
    "    plt.xlabel('Epoches')\n",
    "    plt.ylabel('Loss')\n",
    "    plt.legend()\n",
    "    plt.savefig('image/loss_lstm_old.png')\n",
    "    return  accuracies_e"
   ]
  },
  {
   "cell_type": "code",
   "execution_count": 135,
   "metadata": {},
   "outputs": [
    {
     "name": "stdout",
     "output_type": "stream",
     "text": [
      "1 / 60 Training loss: 0.8135222053286363,Valid_loss:0.3646841697394848,Valid_accuracy:0.88046875\n",
      "Loss decrease...\n",
      "2 / 60 Training loss: 0.23466970968538764,Valid_loss:0.21533753108233214,Valid_accuracy:0.9267578125\n",
      "Loss decrease...\n",
      "3 / 60 Training loss: 0.1555015310716591,Valid_loss:0.1936895802617073,Valid_accuracy:0.9330078125\n",
      "Loss decrease...\n",
      "4 / 60 Training loss: 0.11335226791356799,Valid_loss:0.15948714427649974,Valid_accuracy:0.9474609375\n",
      "Loss decrease...\n",
      "5 / 60 Training loss: 0.08753423399524267,Valid_loss:0.1405153582803905,Valid_accuracy:0.9521484375\n",
      "Loss decrease...\n",
      "6 / 60 Training loss: 0.07094906181541842,Valid_loss:0.12259408514946699,Valid_accuracy:0.9626953125\n",
      "Loss decrease...\n",
      "7 / 60 Training loss: 0.05857218155013854,Valid_loss:0.11855380237102509,Valid_accuracy:0.961328125\n",
      "Loss decrease...\n",
      "8 / 60 Training loss: 0.04844580184040802,Valid_loss:0.10791344246827066,Valid_accuracy:0.9625\n",
      "Loss decrease...\n",
      "9 / 60 Training loss: 0.042206180160805615,Valid_loss:0.10153692895546555,Valid_accuracy:0.966796875\n",
      "Loss decrease...\n",
      "10 / 60 Training loss: 0.0368607023965194,Valid_loss:0.09972049309872091,Valid_accuracy:0.9671875\n",
      "Loss decrease...\n",
      "11 / 60 Training loss: 0.031072828414311797,Valid_loss:0.08131558620370924,Valid_accuracy:0.973828125\n",
      "Loss decrease...\n",
      "12 / 60 Training loss: 0.027861347668238286,Valid_loss:0.07709457445889711,Valid_accuracy:0.9744140625\n",
      "Loss decrease...\n",
      "13 / 60 Training loss: 0.021502463536253617,Valid_loss:0.08518928759731352,Valid_accuracy:0.9748046875\n",
      "14 / 60 Training loss: 0.02082848845959218,Valid_loss:0.08344894889742135,Valid_accuracy:0.975390625\n",
      "15 / 60 Training loss: 0.01924888674082405,Valid_loss:0.08207006454467773,Valid_accuracy:0.9765625\n",
      "16 / 60 Training loss: 0.016392984782963166,Valid_loss:0.09276304370723665,Valid_accuracy:0.969921875\n",
      "17 / 60 Training loss: 0.016205248051583132,Valid_loss:0.06727493973448873,Valid_accuracy:0.9806640625\n",
      "Loss decrease...\n",
      "18 / 60 Training loss: 0.014629930829696818,Valid_loss:0.07169083254411816,Valid_accuracy:0.9794921875\n",
      "19 / 60 Training loss: 0.011877265335845032,Valid_loss:0.07256311606615781,Valid_accuracy:0.9806640625\n",
      "20 / 60 Training loss: 0.012421247694315686,Valid_loss:0.06059710755944252,Valid_accuracy:0.9828125\n",
      "Loss decrease...\n",
      "21 / 60 Training loss: 0.010436347910145452,Valid_loss:0.06457656738348305,Valid_accuracy:0.9828125\n",
      "22 / 60 Training loss: 0.00900759908960445,Valid_loss:0.0755383581854403,Valid_accuracy:0.9794921875\n",
      "23 / 60 Training loss: 0.008028658484217964,Valid_loss:0.07350454824045301,Valid_accuracy:0.9802734375\n",
      "24 / 60 Training loss: 0.008882767701549317,Valid_loss:0.08573256004601718,Valid_accuracy:0.9767578125\n",
      "25 / 60 Training loss: 0.009374118380264434,Valid_loss:0.06730977590195834,Valid_accuracy:0.9806640625\n",
      "26 / 60 Training loss: 0.008889692460200679,Valid_loss:0.0876679131295532,Valid_accuracy:0.97578125\n",
      "27 / 60 Training loss: 0.0078010115700998285,Valid_loss:0.07166477688588202,Valid_accuracy:0.9802734375\n",
      "28 / 60 Training loss: 0.004426276744174551,Valid_loss:0.06894311271607875,Valid_accuracy:0.98046875\n",
      "29 / 60 Training loss: 0.004571926400764411,Valid_loss:0.10680231163278223,Valid_accuracy:0.9708984375\n",
      "30 / 60 Training loss: 0.00758958487574861,Valid_loss:0.0829289392568171,Valid_accuracy:0.979296875\n",
      "31 / 60 Training loss: 0.007939073143959807,Valid_loss:0.1032405716367066,Valid_accuracy:0.97265625\n",
      "32 / 60 Training loss: 0.007317874806998635,Valid_loss:0.06292393943294883,Valid_accuracy:0.983203125\n",
      "33 / 60 Training loss: 0.0028700067449226054,Valid_loss:0.07880042046308518,Valid_accuracy:0.9794921875\n",
      "34 / 60 Training loss: 0.003009446271097482,Valid_loss:0.07212367681786418,Valid_accuracy:0.983203125\n",
      "35 / 60 Training loss: 0.0068815120819535084,Valid_loss:0.09598560640588402,Valid_accuracy:0.9748046875\n",
      "36 / 60 Training loss: 0.004390600385632851,Valid_loss:0.09020929019898176,Valid_accuracy:0.976171875\n",
      "37 / 60 Training loss: 0.00552100895532667,Valid_loss:0.06955085932277143,Valid_accuracy:0.9822265625\n",
      "38 / 60 Training loss: 0.002338529900034099,Valid_loss:0.09457109766080976,Valid_accuracy:0.9787109375\n",
      "39 / 60 Training loss: 0.004474869816065597,Valid_loss:0.07214683154597878,Valid_accuracy:0.98046875\n",
      "40 / 60 Training loss: 0.00576028234954836,Valid_loss:0.07275196136906743,Valid_accuracy:0.9814453125\n",
      "41 / 60 Training loss: 0.0036583672176355494,Valid_loss:0.06276783612556755,Valid_accuracy:0.9822265625\n",
      "42 / 60 Training loss: 0.002734727569734618,Valid_loss:0.05970647037029266,Valid_accuracy:0.9837890625\n",
      "Loss decrease...\n",
      "43 / 60 Training loss: 0.004294910847441728,Valid_loss:0.06328097945079207,Valid_accuracy:0.9828125\n",
      "44 / 60 Training loss: 0.0013858861982949508,Valid_loss:0.06011616978794336,Valid_accuracy:0.98515625\n",
      "45 / 60 Training loss: 0.0010413703308113093,Valid_loss:0.07948248330503702,Valid_accuracy:0.980078125\n",
      "46 / 60 Training loss: 0.007829023910356737,Valid_loss:0.06412993902340532,Valid_accuracy:0.9859375\n",
      "47 / 60 Training loss: 0.002254906060821466,Valid_loss:0.06567449667491018,Valid_accuracy:0.984765625\n",
      "48 / 60 Training loss: 0.0019938884747784527,Valid_loss:0.0752509608399123,Valid_accuracy:0.9798828125\n",
      "49 / 60 Training loss: 0.003524113482217799,Valid_loss:0.09722103625535965,Valid_accuracy:0.978125\n",
      "50 / 60 Training loss: 0.004277292345124267,Valid_loss:0.07927679242566228,Valid_accuracy:0.9814453125\n",
      "51 / 60 Training loss: 0.002228981289051489,Valid_loss:0.09214713145047426,Valid_accuracy:0.980859375\n",
      "52 / 60 Training loss: 0.0028817055445077067,Valid_loss:0.07499131662771105,Valid_accuracy:0.98125\n",
      "53 / 60 Training loss: 0.0030500404794873205,Valid_loss:0.06165668242610991,Valid_accuracy:0.984375\n",
      "54 / 60 Training loss: 0.0032830369581323443,Valid_loss:0.08817000947892666,Valid_accuracy:0.978125\n",
      "55 / 60 Training loss: 0.0041107047539847745,Valid_loss:0.08716691471636295,Valid_accuracy:0.97890625\n",
      "56 / 60 Training loss: 0.0018219902440270127,Valid_loss:0.05785847911611199,Valid_accuracy:0.985546875\n",
      "Loss decrease...\n",
      "57 / 60 Training loss: 0.0027284486683955326,Valid_loss:0.06607987238094211,Valid_accuracy:0.983984375\n",
      "58 / 60 Training loss: 0.002123785568579936,Valid_loss:0.06367864897474647,Valid_accuracy:0.984765625\n",
      "59 / 60 Training loss: 0.002871726502551199,Valid_loss:0.07225411385297775,Valid_accuracy:0.9818359375\n",
      "60 / 60 Training loss: 0.0019972579740385,Valid_loss:0.09876591213978828,Valid_accuracy:0.977734375\n",
      "min loss: 0.05785847911611199\n",
      "Training Time is: 1854.2764375209808 s\n"
     ]
    },
    {
     "data": {
      "image/png": "[encoded data removed]",
      "text/plain": [
       "<matplotlib.figure.Figure at 0x7ffb0c35a048>"
      ]
     },
     "metadata": {
      "needs_background": "light"
     },
     "output_type": "display_data"
    }
   ],
   "source": [
    "model = LSTM(28,10,512,2) #512,2 0.983  256,2 0.983 ,64 ,2 0.984,32,2,0.983,256,4.0.983\n",
    "if use_cuda:\n",
    "    model.cuda()\n",
    "from time import time\n",
    "start = time()\n",
    "accuracy = train(model, 60,train_loader,valid_loader,0.0001)\n",
    "print('Training Time is:',time()-start,'s')"
   ]
  },
  {
   "cell_type": "code",
   "execution_count": 138,
   "metadata": {},
   "outputs": [
    {
     "data": {
      "image/png": "[encoded data removed]",
      "text/plain": [
       "<matplotlib.figure.Figure at 0x7ffb2e3a7048>"
      ]
     },
     "metadata": {
      "needs_background": "light"
     },
     "output_type": "display_data"
    }
   ],
   "source": [
    "plt.plot(accuracy,color='b',label='accuracy')\n",
    "plt.title('Accuracy_Trend')\n",
    "plt.xlabel('Epoches')\n",
    "plt.ylabel('Accuracy')\n",
    "plt.legend()\n",
    "plt.savefig('image/accuracy_lstm_old.png')"
   ]
  },
  {
   "cell_type": "code",
   "execution_count": 139,
   "metadata": {},
   "outputs": [],
   "source": [
    "def test(net,test_loader):\n",
    "    criterion = nn.CrossEntropyLoss()\n",
    "    valid_loss = []\n",
    "    accuracies_ = []\n",
    "    class_correct = np.zeros(10)\n",
    "    class_total = np.zeros(10)\n",
    "    classes = ['0','1','2','3','4','5','6','7','8','9']\n",
    "    net.eval()\n",
    "    for x,y in test_loader:\n",
    "        x = x.squeeze()\n",
    "        h = net.init_hidden(x.shape[0])\n",
    "        h = tuple([each.data for each in h])\n",
    "        if use_cuda:\n",
    "            x,y = x.cuda(),y.cuda()\n",
    "        out,h = net(x,h)\n",
    "        loss = criterion(out,y)\n",
    "        _,class_ = torch.max(out,dim=1)\n",
    "        equal = class_ == y.view(class_.shape)\n",
    "        for i in range(y.shape[0]):\n",
    "            label = y.data[i].item()\n",
    "            class_correct[label] += equal[i].item()\n",
    "            class_total[label] += 1\n",
    "        accuracy = torch.mean(equal.type(torch.FloatTensor)).item()\n",
    "        accuracies_.append(accuracy)\n",
    "        \n",
    "        valid_loss.append(loss.item())\n",
    "    #print('Test Loss: {:.6f}\\n'.format(loss.item()))\n",
    "    for i in range(10):\n",
    "        if class_total[i]>0:\n",
    "            print('Test Accuracy of {}:{:.4f}({}/{})'.format(classes[i],100*class_correct[i]/class_total[i],\n",
    "                 int(np.sum(class_correct[i])),\n",
    "                 int(np.sum(class_total[i]))))\n",
    "        else:\n",
    "            print('Test Accuracy of {}:N/A(no examples)'.format(classes[i]))\n",
    "    print('Test Accuracy(Overall):{:.4f} ({}/{})'.format(100*np.sum(class_correct)/np.sum(class_total),\n",
    "                                                    int(np.sum(class_correct)),\n",
    "                                                    int(np.sum(class_total))))\n",
    "    print('Test Loss:',np.mean(valid_loss),'Test Accuracy:',np.mean(accuracies_))"
   ]
  },
  {
   "cell_type": "code",
   "execution_count": 141,
   "metadata": {},
   "outputs": [
    {
     "name": "stdout",
     "output_type": "stream",
     "text": [
      "Test Accuracy of 0:99.4231(517/520)\n",
      "Test Accuracy of 1:99.8227(563/564)\n",
      "Test Accuracy of 2:99.8008(501/502)\n",
      "Test Accuracy of 3:99.8039(509/510)\n",
      "Test Accuracy of 4:98.9627(477/482)\n",
      "Test Accuracy of 5:98.8532(431/436)\n",
      "Test Accuracy of 6:99.5968(494/496)\n",
      "Test Accuracy of 7:99.2248(512/516)\n",
      "Test Accuracy of 8:98.9691(480/485)\n",
      "Test Accuracy of 9:99.5910(487/489)\n",
      "Test Accuracy(Overall):99.4200 (4971/5000)\n",
      "Test Loss: 0.026937113562598824 Test Accuracy: 0.9943359375\n"
     ]
    }
   ],
   "source": [
    "model_test = LSTM(28,10,512,2)\n",
    "if use_cuda:\n",
    "    model_test.cuda()\n",
    "model_test.load_state_dict(torch.load('model/net_mnist_loss_min_lstm_old.pth'))\n",
    "test(model_test,test_loader)"
   ]
  },
  {
   "cell_type": "code",
   "execution_count": null,
   "metadata": {},
   "outputs": [],
   "source": []
  }
 ],
 "metadata": {
  "kernelspec": {
   "display_name": "Python 3",
   "language": "python",
   "name": "python3"
  },
  "language_info": {
   "codemirror_mode": {
    "name": "ipython",
    "version": 3
   },
   "file_extension": ".py",
   "mimetype": "text/x-python",
   "name": "python",
   "nbconvert_exporter": "python",
   "pygments_lexer": "ipython3",
   "version": "3.5.2"
  }
 },
 "nbformat": 4,
 "nbformat_minor": 2
}
