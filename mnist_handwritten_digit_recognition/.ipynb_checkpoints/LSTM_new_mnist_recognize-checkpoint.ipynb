{
 "cells": [
  {
   "cell_type": "code",
   "execution_count": 42,
   "metadata": {},
   "outputs": [],
   "source": [
    "from torch import optim\n",
    "from  torch import nn\n",
    "from torchvision import datasets, transforms\n",
    "import torch.nn.functional as F\n",
    "import torch\n",
    "import helper\n",
    "import matplotlib.pyplot as plt\n",
    "import numpy as np"
   ]
  },
  {
   "cell_type": "code",
   "execution_count": 43,
   "metadata": {},
   "outputs": [],
   "source": [
    "# Define a transform to normalize the data\n",
    "transform = transforms.Compose([transforms.ToTensor(),\n",
    "                              transforms.Normalize((0.5,), (0.5,)),\n",
    "                              ])\n",
    "batch_size = 64\n",
    "# Download and load the training data\n",
    "train_set = datasets.MNIST('MNIST_data/', download=True, train=True, transform=transform)\n",
    "test_set = datasets.MNIST('MNIST_data/',download=True,train=False,transform=transform)\n",
    "\n",
    "num_works = 0\n",
    "valid_split = 0.5\n",
    "#把test数据集分成test和valid\n",
    "num_test = len(test_set)#得到数据大小\n",
    "indices = list(range(num_test))#得到下表索引值列表\n",
    "#np.random.shuffle(indices)\n",
    "\n",
    "split = int(np.floor(valid_split*num_test))# 返回不大于输入参数的最大整数。 即对于输入值 x ，将返回最大的整数 i ，使得 i <= x\n",
    "test_idx,valid_idx = indices[split:],indices[:split] #返回所需的元素索引列表\n",
    "\n",
    "test_sampler = torch.utils.data.sampler.SubsetRandomSampler(test_idx) #样本元素从指定的索引列表中随机抽取，没有替换。参数： - indices (list) – 索引的列表\n",
    "valid_sampler = torch.utils.data.sampler.SubsetRandomSampler(valid_idx)\n",
    "\n",
    "train_loader = torch.utils.data.DataLoader(train_set, batch_size=batch_size, shuffle=False,num_workers=num_works)\n",
    "test_loader = torch.utils.data.DataLoader(test_set,batch_size=batch_size,shuffle=False,sampler=test_sampler,num_workers=num_works)\n",
    "valid_loader = torch.utils.data.DataLoader(test_set,batch_size=batch_size,shuffle=False,sampler=valid_sampler,num_workers=num_works)"
   ]
  },
  {
   "cell_type": "code",
   "execution_count": 3,
   "metadata": {},
   "outputs": [
    {
     "data": {
      "image/png": "[encoded data removed]",
      "text/plain": [
       "<matplotlib.figure.Figure at 0x7ffb2e8f2048>"
      ]
     },
     "metadata": {},
     "output_type": "display_data"
    }
   ],
   "source": [
    "dataiter = iter(train_loader)\n",
    "images,labels = dataiter.next()\n",
    "\n",
    "images = images.numpy()\n",
    "\n",
    "fig = plt.figure(figsize=(25,4),facecolor='white')\n",
    "\n",
    "for idx in np.arange(20):\n",
    "    ax = fig.add_subplot(2,20/2,idx+1,xticks=[],yticks=[])\n",
    "    ax.imshow(np.squeeze(images[idx]),cmap='gray')\n",
    "    ax.set_title(str(labels[idx].item()))\n",
    "\n"
   ]
  },
  {
   "cell_type": "code",
   "execution_count": 32,
   "metadata": {},
   "outputs": [
    {
     "data": {
      "text/plain": [
       "<matplotlib.figure.Figure at 0x7fc59f62b3c8>"
      ]
     },
     "metadata": {},
     "output_type": "display_data"
    }
   ],
   "source": [
    "#更仔细地查看图像\n",
    "dataiter = iter(train_loader)\n",
    "images,labels = dataiter.next()\n",
    "\n",
    "images = images.numpy()\n",
    "img = np.squeeze(images[0])\n",
    "\n",
    "fig = plt.figure(figsize=(12,12))\n",
    "ax.imshow(img,cmap='gray')\n",
    "width,height = img.shape\n",
    "thresh = img.max()/2.5\n",
    "for x in range(width):\n",
    "    for y in range(height):\n",
    "        val = round(img[x][y],2) if img[x][y] != 0 else 0\n",
    "        ax.annotate(str(val),xy=(y,x),\n",
    "                    horizontalalignment='center',\n",
    "                    verticalalignment='center',\n",
    "                    color ='white' if img[x][y]<thresh else 'black')\n",
    "        ax.imshow(img,cmap='gray')"
   ]
  },
  {
   "cell_type": "code",
   "execution_count": 44,
   "metadata": {},
   "outputs": [],
   "source": [
    "class LSTM(nn.Module):\n",
    "    def __init__(self, input_size, output_size, hidden_dim, n_layers):\n",
    "        super(LSTM, self).__init__()\n",
    "        \n",
    "        self.hidden_dim=hidden_dim\n",
    "        self.n_layers = n_layers\n",
    "        # define an RNN with specified parameters\n",
    "        # batch_first means that the first dim of the input and output will be the batch_size\n",
    "        self.lstm = nn.LSTM(input_size, hidden_dim, n_layers,dropout=0, batch_first=True)\n",
    "        \n",
    "        # last, fully-connected layer\n",
    "        self.fc1 = nn.Linear(hidden_dim,hidden_dim*2)\n",
    "        self.fc = nn.Linear(hidden_dim*2, output_size)\n",
    "        self.fc2 = nn.Linear(784,output_size)\n",
    "      #  self.softmax = nn.Softmax(dim=1)\n",
    "    def forward(self, x, hidden):\n",
    "        # x (batch_size, seq_length, input_size)\n",
    "        # hidden (n_layers, batch_size, hidden_dim)\n",
    "        # r_out (batch_size, time_step, hidden_size)\n",
    "        batch_size = x.size(0)\n",
    "        \n",
    "        # get RNN outputs\n",
    "        r_out, hidden = self.lstm(x, hidden)\n",
    "        \"\"\"\n",
    "        r_out = torch.mean(r_out,dim=2).squeeze()\n",
    "        \n",
    "        output= self.fc2(r_out)\n",
    "        # shape output to be (batch_size*seq_length, hidden_dim)\n",
    "        \"\"\"\n",
    "        r_out = r_out.contiguous().view(-1, self.hidden_dim)  \n",
    "        \n",
    "        # get final output \n",
    "        output = self.fc1(r_out)\n",
    "        output = self.fc(output)\n",
    "        output = output.view(batch_size,-1,10)\n",
    "        output = output[:,-1]\n",
    "      #  output = self.softmax(output)\n",
    "        \n",
    "        return output, hidden\n",
    "    \n",
    "    def init_hidden(self, batch_size):\n",
    "        ''' Initializes hidden state '''\n",
    "        # Create two new tensors with sizes n_layers x batch_size x hidden_dim,\n",
    "        # initialized to zero, for hidden state and cell state of LSTM\n",
    "        weight = next(self.parameters()).data\n",
    "\n",
    "        if use_cuda:\n",
    "            hidden = (weight.new(self.n_layers, batch_size, self.hidden_dim).zero_().cuda(),\n",
    "                      weight.new(self.n_layers, batch_size, self.hidden_dim).zero_().cuda())\n",
    "        else:\n",
    "            hidden = (weight.new(self.n_layers, batch_size, self.hidden_dim).zero_(),\n",
    "                      weight.new(self.n_layers, batch_size, self.hidden_dim).zero_())\n",
    "\n",
    "        return hidden\n",
    "\n",
    "use_cuda = torch.cuda.is_available()"
   ]
  },
  {
   "cell_type": "code",
   "execution_count": 49,
   "metadata": {},
   "outputs": [],
   "source": [
    "def train(model,epochs,train_loader,valid_loader,lr=0.03):\n",
    "    train_losses_e =[]\n",
    "    valid_losses_e =[]\n",
    "    accuracies_e = []\n",
    "    loss_min = np.inf\n",
    "    criterion = nn.CrossEntropyLoss()\n",
    "    optimizer = torch.optim.Adam(model.parameters(), lr=lr)\n",
    "    for e in range(epochs):\n",
    "        running_loss = 0\n",
    "        train_losses =[]\n",
    "        valid_losses =[]\n",
    "        accuracies = []\n",
    "        for images,labels in train_loader:\n",
    "            # Flatten MNIST images into a 784 long vector\n",
    "            \n",
    "            images = images.squeeze()\n",
    "            h = model.init_hidden(images.shape[0])\n",
    "            h = tuple([each.data for each in h])\n",
    "            \n",
    "            if use_cuda:\n",
    "                images,labels = images.cuda(),labels.cuda()\n",
    "            optimizer.zero_grad()\n",
    "            # TODO: Training pass\n",
    "            output ,h= model(images,h)\n",
    "            \n",
    "            loss = criterion(output, labels)\n",
    "            # print(loss)\n",
    "            loss.backward()\n",
    "            optimizer.step()\n",
    "            train_losses.append(loss.item())\n",
    "        model.eval()\n",
    "        for images,labels in valid_loader:\n",
    "            images = images.squeeze()\n",
    "            h = model.init_hidden(images.shape[0])\n",
    "            h = tuple([each.data for each in h])\n",
    "            \n",
    "            if use_cuda:\n",
    "                images,labels = images.cuda(),labels.cuda()\n",
    "            out,h = model(images,h)\n",
    "            valid_loss = criterion(out,labels)\n",
    "            _,index = out.topk(1,dim=1)\n",
    "            eq = index == labels.view(index.shape)\n",
    "            accuracy = torch.mean(eq.type(torch.FloatTensor)).item()\n",
    "            valid_losses.append(valid_loss.item())\n",
    "            accuracies.append(accuracy)\n",
    "        train_losses_e.append(np.mean(train_losses))\n",
    "        valid_losses_e.append(np.mean(valid_losses))\n",
    "        accuracies_e.append(np.mean(accuracies))\n",
    "        print(e+1,\"/\",epochs,\"Training loss: {},Valid_loss:{},Valid_accuracy:{}\".format(np.mean(train_losses),np.mean(valid_losses),np.mean(accuracies)))\n",
    "        if loss_min > np.mean(valid_losses):     \n",
    "            print('Loss decrease...')\n",
    "            loss_min = np.mean(valid_losses)\n",
    "            torch.save(model.state_dict(),'model/net_mnist_loss_min_lstm_old.pth')\n",
    "            \n",
    "        \n",
    "        model.train()\n",
    "    print('min loss:',loss_min)\n",
    "    plt.plot(train_losses_e,color='r',label='train_loss')\n",
    "    plt.plot(valid_losses_e,color='g',label='valid_loss')\n",
    "    plt.title('Loss_Trend')\n",
    "    plt.xlabel('Epoches')\n",
    "    plt.ylabel('Loss')\n",
    "    plt.legend()\n",
    "    plt.savefig('image/loss_lstm_old.png')\n",
    "    return  accuracies_e"
   ]
  },
  {
   "cell_type": "code",
   "execution_count": 50,
   "metadata": {},
   "outputs": [
    {
     "name": "stdout",
     "output_type": "stream",
     "text": [
      "1 / 10 Training loss: 2.144407735704613,Valid_loss:1.8099367558201658,Valid_accuracy:0.3987341772151899\n",
      "Loss decrease...\n",
      "2 / 10 Training loss: 1.5495721000089828,Valid_loss:1.4672491384457937,Valid_accuracy:0.49980221518987344\n",
      "Loss decrease...\n",
      "3 / 10 Training loss: 1.2863791284403567,Valid_loss:1.2331034473226041,Valid_accuracy:0.589003164556962\n",
      "Loss decrease...\n",
      "4 / 10 Training loss: 1.0552544402542399,Valid_loss:1.025008937226066,Valid_accuracy:0.660996835443038\n",
      "Loss decrease...\n",
      "5 / 10 Training loss: 0.8593952842295043,Valid_loss:0.8552570252478877,Valid_accuracy:0.7231012658227848\n",
      "Loss decrease...\n",
      "6 / 10 Training loss: 0.7254698072542259,Valid_loss:0.7455192370505273,Valid_accuracy:0.7618670886075949\n",
      "Loss decrease...\n",
      "7 / 10 Training loss: 0.6302833752210206,Valid_loss:0.6705279712435566,Valid_accuracy:0.7885680379746836\n",
      "Loss decrease...\n",
      "8 / 10 Training loss: 0.5552859654717608,Valid_loss:0.6091168270080904,Valid_accuracy:0.810126582278481\n",
      "Loss decrease...\n",
      "9 / 10 Training loss: 0.4949190173862077,Valid_loss:0.5622921842563001,Valid_accuracy:0.8263449367088608\n",
      "Loss decrease...\n",
      "10 / 10 Training loss: 0.44705650736210445,Valid_loss:0.5201506808966021,Valid_accuracy:0.8419699367088608\n",
      "Loss decrease...\n",
      "min loss: 0.5201506808966021\n",
      "Training Time is: 94.60486626625061 s\n"
     ]
    },
    {
     "data": {
      "image/png": "[encoded data removed]",
      "text/plain": [
       "<matplotlib.figure.Figure at 0x7ffb0c4fbef0>"
      ]
     },
     "metadata": {
      "needs_background": "light"
     },
     "output_type": "display_data"
    }
   ],
   "source": [
    "model = LSTM(28,10,16,2) #512,2 0.983  256,2 0.983 ,64 ,2 0.984,32,2,0.983,256,4.0.983\n",
    "if use_cuda:\n",
    "    model.cuda()\n",
    "from time import time\n",
    "start = time()\n",
    "accuracy = train(model,10,train_loader,valid_loader,0.0001)\n",
    "print('Training Time is:',time()-start,'s')"
   ]
  },
  {
   "cell_type": "code",
   "execution_count": 51,
   "metadata": {},
   "outputs": [
    {
     "data": {
      "image/png": "[encoded data removed]",
      "text/plain": [
       "<matplotlib.figure.Figure at 0x7ffb0c49a6a0>"
      ]
     },
     "metadata": {
      "needs_background": "light"
     },
     "output_type": "display_data"
    }
   ],
   "source": [
    "plt.plot(accuracy,color='b',label='accuracy')\n",
    "plt.title('Accuracy_Trend')\n",
    "plt.xlabel('Epoches')\n",
    "plt.ylabel('Accuracy')\n",
    "plt.legend()\n",
    "plt.savefig('image/accuracy_mlp.png')"
   ]
  },
  {
   "cell_type": "code",
   "execution_count": 58,
   "metadata": {},
   "outputs": [],
   "source": [
    "def test(net,test_loader):\n",
    "    criterion = nn.CrossEntropyLoss()\n",
    "    valid_loss = []\n",
    "    accuracies_ = []\n",
    "    class_correct = np.zeros(10)\n",
    "    class_total = np.zeros(10)\n",
    "    classes = ['0','1','2','3','4','5','6','7','8','9']\n",
    "    net.eval()\n",
    "    for x,y in test_loader:\n",
    "        x = x.squeeze()\n",
    "        h = net.init_hidden(x.shape[0])\n",
    "        h = tuple([each.data for each in h])\n",
    "        if use_cuda:\n",
    "            x,y = x.cuda(),y.cuda()\n",
    "        out,h = net(x,h)\n",
    "        loss = criterion(out,y)\n",
    "        _,class_ = torch.max(out,dim=1)\n",
    "        equal = class_ == y.view(class_.shape)\n",
    "        for i in range(y.shape[0]):\n",
    "            label = y.data[i].item()\n",
    "            class_correct[label] += equal[i].item()\n",
    "            class_total[label] += 1\n",
    "        accuracy = torch.mean(equal.type(torch.FloatTensor)).item()\n",
    "        accuracies_.append(accuracy)\n",
    "        \n",
    "        valid_loss.append(loss.item())\n",
    "    #print('Test Loss: {:.6f}\\n'.format(loss.item()))\n",
    "    for i in range(10):\n",
    "        if class_total[i]>0:\n",
    "            print('Test Accuracy of {}:{:.4f}({}/{})'.format(classes[i],100*class_correct[i]/class_total[i],\n",
    "                 int(np.sum(class_correct[i])),\n",
    "                 int(np.sum(class_total[i]))))\n",
    "        else:\n",
    "            print('Test Accuracy of {}:N/A(no examples)'.format(classes[i]))\n",
    "    print('Test Accuracy(Overall):{:.4f} ({}/{})'.format(100*np.sum(class_correct)/np.sum(class_total),\n",
    "                                                    int(np.sum(class_correct)),\n",
    "                                                    int(np.sum(class_total))))\n",
    "    print('Test Loss:',np.mean(valid_loss),'Test Accuracy:',np.mean(accuracies_))"
   ]
  },
  {
   "cell_type": "code",
   "execution_count": 60,
   "metadata": {},
   "outputs": [
    {
     "name": "stdout",
     "output_type": "stream",
     "text": [
      "Test Accuracy of 0:93.6538(487/520)\n",
      "Test Accuracy of 1:97.1631(548/564)\n",
      "Test Accuracy of 2:90.2390(453/502)\n",
      "Test Accuracy of 3:88.0392(449/510)\n",
      "Test Accuracy of 4:93.3610(450/482)\n",
      "Test Accuracy of 5:77.7523(339/436)\n",
      "Test Accuracy of 6:96.5726(479/496)\n",
      "Test Accuracy of 7:96.8992(500/516)\n",
      "Test Accuracy of 8:86.1856(418/485)\n",
      "Test Accuracy of 9:87.3211(427/489)\n",
      "Test Accuracy(Overall):91.0000 (4550/5000)\n",
      "Test Loss: 0.3193482698141774 Test Accuracy: 0.9096123417721519\n"
     ]
    }
   ],
   "source": [
    "model_test = LSTM(28,10,16,2)\n",
    "if use_cuda:\n",
    "    model_test.cuda()\n",
    "model_test.load_state_dict(torch.load('model/net_mnist_loss_min_lstm_old.pth'))\n",
    "test(model_test,test_loader)"
   ]
  },
  {
   "cell_type": "code",
   "execution_count": null,
   "metadata": {},
   "outputs": [],
   "source": []
  }
 ],
 "metadata": {
  "kernelspec": {
   "display_name": "Python 3",
   "language": "python",
   "name": "python3"
  },
  "language_info": {
   "codemirror_mode": {
    "name": "ipython",
    "version": 3
   },
   "file_extension": ".py",
   "mimetype": "text/x-python",
   "name": "python",
   "nbconvert_exporter": "python",
   "pygments_lexer": "ipython3",
   "version": "3.5.2"
  }
 },
 "nbformat": 4,
 "nbformat_minor": 2
}
